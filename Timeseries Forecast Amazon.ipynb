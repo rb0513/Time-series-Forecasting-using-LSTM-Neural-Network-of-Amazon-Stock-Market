{
 "cells": [
  {
   "cell_type": "markdown",
   "metadata": {},
   "source": [
    "# Import Python Libraries"
   ]
  },
  {
   "cell_type": "code",
   "execution_count": 34,
   "metadata": {},
   "outputs": [],
   "source": [
    "#importing basic libaries\n",
    "import pandas as pd\n",
    "import matplotlib.pyplot as plt\n",
    "import numpy as np \n",
    "%matplotlib inline"
   ]
  },
  {
   "cell_type": "code",
   "execution_count": 35,
   "metadata": {},
   "outputs": [],
   "source": [
    "# for timeseries RNN neutral network\n",
    "from tensorflow.keras.models import Sequential\n",
    "from tensorflow.keras.layers import Dense\n",
    "from tensorflow.keras.layers import  LSTM\n",
    "from tensorflow.keras.layers import  Dropout"
   ]
  },
  {
   "cell_type": "code",
   "execution_count": 36,
   "metadata": {},
   "outputs": [],
   "source": [
    "#import keras: TimeseriesGenerator\n",
    "from tensorflow.keras.preprocessing.sequence import TimeseriesGenerator\n",
    "\n",
    "# impoer keras: MinMaxScaler\n",
    "from sklearn.preprocessing import MinMaxScaler"
   ]
  },
  {
   "cell_type": "markdown",
   "metadata": {},
   "source": [
    "# Data Set: AMZN(Amazon: 01/01 2014- 12/30/2019)"
   ]
  },
  {
   "cell_type": "code",
   "execution_count": 45,
   "metadata": {},
   "outputs": [],
   "source": [
    "#importing dataset\n",
    "dir_path_dataset_1 = '/home/reeyabhusal/AMZN.csv'"
   ]
  },
  {
   "cell_type": "code",
   "execution_count": 46,
   "metadata": {},
   "outputs": [],
   "source": [
    "df_ALL = pd.read_csv(dir_path_dataset_1)"
   ]
  },
  {
   "cell_type": "code",
   "execution_count": 47,
   "metadata": {},
   "outputs": [
    {
     "data": {
      "text/html": [
       "<div>\n",
       "<style scoped>\n",
       "    .dataframe tbody tr th:only-of-type {\n",
       "        vertical-align: middle;\n",
       "    }\n",
       "\n",
       "    .dataframe tbody tr th {\n",
       "        vertical-align: top;\n",
       "    }\n",
       "\n",
       "    .dataframe thead th {\n",
       "        text-align: right;\n",
       "    }\n",
       "</style>\n",
       "<table border=\"1\" class=\"dataframe\">\n",
       "  <thead>\n",
       "    <tr style=\"text-align: right;\">\n",
       "      <th></th>\n",
       "      <th>Date</th>\n",
       "      <th>Open</th>\n",
       "      <th>High</th>\n",
       "      <th>Low</th>\n",
       "      <th>Close</th>\n",
       "      <th>Adj Close</th>\n",
       "      <th>Volume</th>\n",
       "    </tr>\n",
       "  </thead>\n",
       "  <tbody>\n",
       "    <tr>\n",
       "      <th>0</th>\n",
       "      <td>2014-01-02</td>\n",
       "      <td>398.799988</td>\n",
       "      <td>399.359985</td>\n",
       "      <td>394.019989</td>\n",
       "      <td>397.970001</td>\n",
       "      <td>397.970001</td>\n",
       "      <td>2137800</td>\n",
       "    </tr>\n",
       "    <tr>\n",
       "      <th>1</th>\n",
       "      <td>2014-01-03</td>\n",
       "      <td>398.290009</td>\n",
       "      <td>402.709991</td>\n",
       "      <td>396.220001</td>\n",
       "      <td>396.440002</td>\n",
       "      <td>396.440002</td>\n",
       "      <td>2210200</td>\n",
       "    </tr>\n",
       "    <tr>\n",
       "      <th>2</th>\n",
       "      <td>2014-01-06</td>\n",
       "      <td>395.850006</td>\n",
       "      <td>397.000000</td>\n",
       "      <td>388.420013</td>\n",
       "      <td>393.630005</td>\n",
       "      <td>393.630005</td>\n",
       "      <td>3170600</td>\n",
       "    </tr>\n",
       "    <tr>\n",
       "      <th>3</th>\n",
       "      <td>2014-01-07</td>\n",
       "      <td>395.040009</td>\n",
       "      <td>398.470001</td>\n",
       "      <td>394.290009</td>\n",
       "      <td>398.029999</td>\n",
       "      <td>398.029999</td>\n",
       "      <td>1916000</td>\n",
       "    </tr>\n",
       "    <tr>\n",
       "      <th>4</th>\n",
       "      <td>2014-01-08</td>\n",
       "      <td>398.470001</td>\n",
       "      <td>403.000000</td>\n",
       "      <td>396.040009</td>\n",
       "      <td>401.920013</td>\n",
       "      <td>401.920013</td>\n",
       "      <td>2316500</td>\n",
       "    </tr>\n",
       "  </tbody>\n",
       "</table>\n",
       "</div>"
      ],
      "text/plain": [
       "         Date        Open        High         Low       Close   Adj Close  \\\n",
       "0  2014-01-02  398.799988  399.359985  394.019989  397.970001  397.970001   \n",
       "1  2014-01-03  398.290009  402.709991  396.220001  396.440002  396.440002   \n",
       "2  2014-01-06  395.850006  397.000000  388.420013  393.630005  393.630005   \n",
       "3  2014-01-07  395.040009  398.470001  394.290009  398.029999  398.029999   \n",
       "4  2014-01-08  398.470001  403.000000  396.040009  401.920013  401.920013   \n",
       "\n",
       "    Volume  \n",
       "0  2137800  \n",
       "1  2210200  \n",
       "2  3170600  \n",
       "3  1916000  \n",
       "4  2316500  "
      ]
     },
     "execution_count": 47,
     "metadata": {},
     "output_type": "execute_result"
    }
   ],
   "source": [
    "df_ALL.head()"
   ]
  },
  {
   "cell_type": "markdown",
   "metadata": {},
   "source": [
    "# Exploratory Data Analysis (EDA)"
   ]
  },
  {
   "cell_type": "code",
   "execution_count": 48,
   "metadata": {},
   "outputs": [
    {
     "data": {
      "text/plain": [
       "(1509, 7)"
      ]
     },
     "execution_count": 48,
     "metadata": {},
     "output_type": "execute_result"
    }
   ],
   "source": [
    "df_ALL.shape"
   ]
  },
  {
   "cell_type": "code",
   "execution_count": 49,
   "metadata": {},
   "outputs": [
    {
     "data": {
      "text/plain": [
       "Date          object\n",
       "Open         float64\n",
       "High         float64\n",
       "Low          float64\n",
       "Close        float64\n",
       "Adj Close    float64\n",
       "Volume         int64\n",
       "dtype: object"
      ]
     },
     "execution_count": 49,
     "metadata": {},
     "output_type": "execute_result"
    }
   ],
   "source": [
    "df_ALL.dtypes"
   ]
  },
  {
   "cell_type": "code",
   "execution_count": 50,
   "metadata": {},
   "outputs": [
    {
     "data": {
      "text/html": [
       "<div>\n",
       "<style scoped>\n",
       "    .dataframe tbody tr th:only-of-type {\n",
       "        vertical-align: middle;\n",
       "    }\n",
       "\n",
       "    .dataframe tbody tr th {\n",
       "        vertical-align: top;\n",
       "    }\n",
       "\n",
       "    .dataframe thead th {\n",
       "        text-align: right;\n",
       "    }\n",
       "</style>\n",
       "<table border=\"1\" class=\"dataframe\">\n",
       "  <thead>\n",
       "    <tr style=\"text-align: right;\">\n",
       "      <th></th>\n",
       "      <th>Open</th>\n",
       "      <th>High</th>\n",
       "      <th>Low</th>\n",
       "      <th>Close</th>\n",
       "      <th>Adj Close</th>\n",
       "      <th>Volume</th>\n",
       "    </tr>\n",
       "  </thead>\n",
       "  <tbody>\n",
       "    <tr>\n",
       "      <th>count</th>\n",
       "      <td>1509.000000</td>\n",
       "      <td>1509.000000</td>\n",
       "      <td>1509.000000</td>\n",
       "      <td>1509.000000</td>\n",
       "      <td>1509.000000</td>\n",
       "      <td>1.509000e+03</td>\n",
       "    </tr>\n",
       "    <tr>\n",
       "      <th>mean</th>\n",
       "      <td>984.302737</td>\n",
       "      <td>993.211908</td>\n",
       "      <td>973.640922</td>\n",
       "      <td>983.886395</td>\n",
       "      <td>983.886395</td>\n",
       "      <td>4.173460e+06</td>\n",
       "    </tr>\n",
       "    <tr>\n",
       "      <th>std</th>\n",
       "      <td>566.829330</td>\n",
       "      <td>571.618465</td>\n",
       "      <td>560.593245</td>\n",
       "      <td>566.330520</td>\n",
       "      <td>566.330520</td>\n",
       "      <td>2.291850e+06</td>\n",
       "    </tr>\n",
       "    <tr>\n",
       "      <th>min</th>\n",
       "      <td>284.399994</td>\n",
       "      <td>290.420013</td>\n",
       "      <td>284.000000</td>\n",
       "      <td>286.950012</td>\n",
       "      <td>286.950012</td>\n",
       "      <td>8.813000e+05</td>\n",
       "    </tr>\n",
       "    <tr>\n",
       "      <th>25%</th>\n",
       "      <td>439.350006</td>\n",
       "      <td>444.720001</td>\n",
       "      <td>435.579987</td>\n",
       "      <td>439.390015</td>\n",
       "      <td>439.390015</td>\n",
       "      <td>2.722900e+06</td>\n",
       "    </tr>\n",
       "    <tr>\n",
       "      <th>50%</th>\n",
       "      <td>818.000000</td>\n",
       "      <td>821.650024</td>\n",
       "      <td>812.500000</td>\n",
       "      <td>817.880005</td>\n",
       "      <td>817.880005</td>\n",
       "      <td>3.561300e+06</td>\n",
       "    </tr>\n",
       "    <tr>\n",
       "      <th>75%</th>\n",
       "      <td>1604.000000</td>\n",
       "      <td>1622.719971</td>\n",
       "      <td>1590.719971</td>\n",
       "      <td>1602.910034</td>\n",
       "      <td>1602.910034</td>\n",
       "      <td>4.808800e+06</td>\n",
       "    </tr>\n",
       "    <tr>\n",
       "      <th>max</th>\n",
       "      <td>2038.109985</td>\n",
       "      <td>2050.500000</td>\n",
       "      <td>2013.000000</td>\n",
       "      <td>2039.510010</td>\n",
       "      <td>2039.510010</td>\n",
       "      <td>2.385610e+07</td>\n",
       "    </tr>\n",
       "  </tbody>\n",
       "</table>\n",
       "</div>"
      ],
      "text/plain": [
       "              Open         High          Low        Close    Adj Close  \\\n",
       "count  1509.000000  1509.000000  1509.000000  1509.000000  1509.000000   \n",
       "mean    984.302737   993.211908   973.640922   983.886395   983.886395   \n",
       "std     566.829330   571.618465   560.593245   566.330520   566.330520   \n",
       "min     284.399994   290.420013   284.000000   286.950012   286.950012   \n",
       "25%     439.350006   444.720001   435.579987   439.390015   439.390015   \n",
       "50%     818.000000   821.650024   812.500000   817.880005   817.880005   \n",
       "75%    1604.000000  1622.719971  1590.719971  1602.910034  1602.910034   \n",
       "max    2038.109985  2050.500000  2013.000000  2039.510010  2039.510010   \n",
       "\n",
       "             Volume  \n",
       "count  1.509000e+03  \n",
       "mean   4.173460e+06  \n",
       "std    2.291850e+06  \n",
       "min    8.813000e+05  \n",
       "25%    2.722900e+06  \n",
       "50%    3.561300e+06  \n",
       "75%    4.808800e+06  \n",
       "max    2.385610e+07  "
      ]
     },
     "execution_count": 50,
     "metadata": {},
     "output_type": "execute_result"
    }
   ],
   "source": [
    "#Statistics Summary\n",
    "\n",
    "df_ALL.describe()"
   ]
  },
  {
   "cell_type": "markdown",
   "metadata": {},
   "source": [
    "# Keep Only \"Close\" and filter out all other attributes"
   ]
  },
  {
   "cell_type": "code",
   "execution_count": 56,
   "metadata": {},
   "outputs": [],
   "source": [
    "df= df_ALL.iloc[:,4:5]"
   ]
  },
  {
   "cell_type": "code",
   "execution_count": 57,
   "metadata": {},
   "outputs": [
    {
     "data": {
      "text/html": [
       "<div>\n",
       "<style scoped>\n",
       "    .dataframe tbody tr th:only-of-type {\n",
       "        vertical-align: middle;\n",
       "    }\n",
       "\n",
       "    .dataframe tbody tr th {\n",
       "        vertical-align: top;\n",
       "    }\n",
       "\n",
       "    .dataframe thead th {\n",
       "        text-align: right;\n",
       "    }\n",
       "</style>\n",
       "<table border=\"1\" class=\"dataframe\">\n",
       "  <thead>\n",
       "    <tr style=\"text-align: right;\">\n",
       "      <th></th>\n",
       "      <th>Close</th>\n",
       "    </tr>\n",
       "  </thead>\n",
       "  <tbody>\n",
       "    <tr>\n",
       "      <th>0</th>\n",
       "      <td>397.970001</td>\n",
       "    </tr>\n",
       "    <tr>\n",
       "      <th>1</th>\n",
       "      <td>396.440002</td>\n",
       "    </tr>\n",
       "    <tr>\n",
       "      <th>2</th>\n",
       "      <td>393.630005</td>\n",
       "    </tr>\n",
       "    <tr>\n",
       "      <th>3</th>\n",
       "      <td>398.029999</td>\n",
       "    </tr>\n",
       "    <tr>\n",
       "      <th>4</th>\n",
       "      <td>401.920013</td>\n",
       "    </tr>\n",
       "  </tbody>\n",
       "</table>\n",
       "</div>"
      ],
      "text/plain": [
       "        Close\n",
       "0  397.970001\n",
       "1  396.440002\n",
       "2  393.630005\n",
       "3  398.029999\n",
       "4  401.920013"
      ]
     },
     "execution_count": 57,
     "metadata": {},
     "output_type": "execute_result"
    }
   ],
   "source": [
    "df.head()"
   ]
  },
  {
   "cell_type": "code",
   "execution_count": 58,
   "metadata": {},
   "outputs": [
    {
     "data": {
      "text/plain": [
       "<matplotlib.axes._subplots.AxesSubplot at 0x7f4383a384e0>"
      ]
     },
     "execution_count": 58,
     "metadata": {},
     "output_type": "execute_result"
    },
    {
     "data": {
      "image/png": "[encoded data removed]",
      "text/plain": [
       "<Figure size 864x576 with 1 Axes>"
      ]
     },
     "metadata": {
      "needs_background": "light"
     },
     "output_type": "display_data"
    }
   ],
   "source": [
    "df.plot(figsize=(12,8))"
   ]
  },
  {
   "cell_type": "markdown",
   "metadata": {},
   "source": [
    "# Length of Input Time Series = Number of input steps"
   ]
  },
  {
   "cell_type": "code",
   "execution_count": 60,
   "metadata": {},
   "outputs": [],
   "source": [
    "#set the length of the input sequence\n",
    "#i.e the number of series that are used to predict future\n",
    "# 60 consecutive closing prices will be used to predict the next one\n",
    "length60= 60"
   ]
  },
  {
   "cell_type": "code",
   "execution_count": 61,
   "metadata": {},
   "outputs": [
    {
     "data": {
      "text/plain": [
       "60"
      ]
     },
     "execution_count": 61,
     "metadata": {},
     "output_type": "execute_result"
    }
   ],
   "source": [
    "length60"
   ]
  },
  {
   "cell_type": "markdown",
   "metadata": {},
   "source": [
    "# Split Data into Test/Train"
   ]
  },
  {
   "cell_type": "code",
   "execution_count": 62,
   "metadata": {},
   "outputs": [
    {
     "data": {
      "text/plain": [
       "1509"
      ]
     },
     "execution_count": 62,
     "metadata": {},
     "output_type": "execute_result"
    }
   ],
   "source": [
    "len(df)"
   ]
  },
  {
   "cell_type": "code",
   "execution_count": 63,
   "metadata": {},
   "outputs": [],
   "source": [
    "#set percentage of data used for testing\n",
    " test_percent = 0.1"
   ]
  },
  {
   "cell_type": "code",
   "execution_count": 64,
   "metadata": {},
   "outputs": [
    {
     "data": {
      "text/plain": [
       "150.9"
      ]
     },
     "execution_count": 64,
     "metadata": {},
     "output_type": "execute_result"
    }
   ],
   "source": [
    "# Numbers of data points reserved for testing model\n",
    "\n",
    "len(df)*test_percent"
   ]
  },
  {
   "cell_type": "markdown",
   "metadata": {},
   "source": [
    "# Split Data into Train and Test"
   ]
  },
  {
   "cell_type": "code",
   "execution_count": 65,
   "metadata": {},
   "outputs": [],
   "source": [
    "# to find the length of the testing dataset\n",
    "\n",
    "test_length = np.round(len(df)*test_percent)"
   ]
  },
  {
   "cell_type": "code",
   "execution_count": 66,
   "metadata": {},
   "outputs": [
    {
     "data": {
      "text/plain": [
       "151.0"
      ]
     },
     "execution_count": 66,
     "metadata": {},
     "output_type": "execute_result"
    }
   ],
   "source": [
    "test_length"
   ]
  },
  {
   "cell_type": "code",
   "execution_count": 70,
   "metadata": {},
   "outputs": [],
   "source": [
    "# The testing dataset starts at this index\n",
    "# index starting with 0\n",
    "\n",
    "split_index= int(len(df) - test_length)"
   ]
  },
  {
   "cell_type": "code",
   "execution_count": 71,
   "metadata": {},
   "outputs": [
    {
     "data": {
      "text/plain": [
       "1358"
      ]
     },
     "execution_count": 71,
     "metadata": {},
     "output_type": "execute_result"
    }
   ],
   "source": [
    "split_index"
   ]
  },
  {
   "cell_type": "code",
   "execution_count": 72,
   "metadata": {},
   "outputs": [],
   "source": [
    "# seperate train and testing dataset\n",
    "#Training dataset: All the indices from start to test_start_inder excluding test_start_index\n",
    "\n",
    "data_train = df.iloc[: split_index]\n",
    " \n",
    "# Testing dataset: All dataset indices from test_start_index to the end of the dataframe including test_start_index\n",
    "\n",
    "data_test = df.iloc[split_index - length60:]\n",
    "    \n",
    "    "
   ]
  },
  {
   "cell_type": "code",
   "execution_count": 74,
   "metadata": {},
   "outputs": [
    {
     "data": {
      "text/html": [
       "<div>\n",
       "<style scoped>\n",
       "    .dataframe tbody tr th:only-of-type {\n",
       "        vertical-align: middle;\n",
       "    }\n",
       "\n",
       "    .dataframe tbody tr th {\n",
       "        vertical-align: top;\n",
       "    }\n",
       "\n",
       "    .dataframe thead th {\n",
       "        text-align: right;\n",
       "    }\n",
       "</style>\n",
       "<table border=\"1\" class=\"dataframe\">\n",
       "  <thead>\n",
       "    <tr style=\"text-align: right;\">\n",
       "      <th></th>\n",
       "      <th>Close</th>\n",
       "    </tr>\n",
       "  </thead>\n",
       "  <tbody>\n",
       "    <tr>\n",
       "      <th>0</th>\n",
       "      <td>397.970001</td>\n",
       "    </tr>\n",
       "    <tr>\n",
       "      <th>1</th>\n",
       "      <td>396.440002</td>\n",
       "    </tr>\n",
       "    <tr>\n",
       "      <th>2</th>\n",
       "      <td>393.630005</td>\n",
       "    </tr>\n",
       "    <tr>\n",
       "      <th>3</th>\n",
       "      <td>398.029999</td>\n",
       "    </tr>\n",
       "    <tr>\n",
       "      <th>4</th>\n",
       "      <td>401.920013</td>\n",
       "    </tr>\n",
       "  </tbody>\n",
       "</table>\n",
       "</div>"
      ],
      "text/plain": [
       "        Close\n",
       "0  397.970001\n",
       "1  396.440002\n",
       "2  393.630005\n",
       "3  398.029999\n",
       "4  401.920013"
      ]
     },
     "execution_count": 74,
     "metadata": {},
     "output_type": "execute_result"
    }
   ],
   "source": [
    "data_train.head(5)"
   ]
  },
  {
   "cell_type": "code",
   "execution_count": 75,
   "metadata": {},
   "outputs": [
    {
     "data": {
      "text/html": [
       "<div>\n",
       "<style scoped>\n",
       "    .dataframe tbody tr th:only-of-type {\n",
       "        vertical-align: middle;\n",
       "    }\n",
       "\n",
       "    .dataframe tbody tr th {\n",
       "        vertical-align: top;\n",
       "    }\n",
       "\n",
       "    .dataframe thead th {\n",
       "        text-align: right;\n",
       "    }\n",
       "</style>\n",
       "<table border=\"1\" class=\"dataframe\">\n",
       "  <thead>\n",
       "    <tr style=\"text-align: right;\">\n",
       "      <th></th>\n",
       "      <th>Close</th>\n",
       "    </tr>\n",
       "  </thead>\n",
       "  <tbody>\n",
       "    <tr>\n",
       "      <th>1353</th>\n",
       "      <td>1858.969971</td>\n",
       "    </tr>\n",
       "    <tr>\n",
       "      <th>1354</th>\n",
       "      <td>1857.520020</td>\n",
       "    </tr>\n",
       "    <tr>\n",
       "      <th>1355</th>\n",
       "      <td>1859.680054</td>\n",
       "    </tr>\n",
       "    <tr>\n",
       "      <th>1356</th>\n",
       "      <td>1815.479980</td>\n",
       "    </tr>\n",
       "    <tr>\n",
       "      <th>1357</th>\n",
       "      <td>1823.280029</td>\n",
       "    </tr>\n",
       "  </tbody>\n",
       "</table>\n",
       "</div>"
      ],
      "text/plain": [
       "            Close\n",
       "1353  1858.969971\n",
       "1354  1857.520020\n",
       "1355  1859.680054\n",
       "1356  1815.479980\n",
       "1357  1823.280029"
      ]
     },
     "execution_count": 75,
     "metadata": {},
     "output_type": "execute_result"
    }
   ],
   "source": [
    "data_train.tail(5)"
   ]
  },
  {
   "cell_type": "code",
   "execution_count": 76,
   "metadata": {},
   "outputs": [
    {
     "data": {
      "text/html": [
       "<div>\n",
       "<style scoped>\n",
       "    .dataframe tbody tr th:only-of-type {\n",
       "        vertical-align: middle;\n",
       "    }\n",
       "\n",
       "    .dataframe tbody tr th {\n",
       "        vertical-align: top;\n",
       "    }\n",
       "\n",
       "    .dataframe thead th {\n",
       "        text-align: right;\n",
       "    }\n",
       "</style>\n",
       "<table border=\"1\" class=\"dataframe\">\n",
       "  <thead>\n",
       "    <tr style=\"text-align: right;\">\n",
       "      <th></th>\n",
       "      <th>Close</th>\n",
       "    </tr>\n",
       "  </thead>\n",
       "  <tbody>\n",
       "    <tr>\n",
       "      <th>1298</th>\n",
       "      <td>1671.729980</td>\n",
       "    </tr>\n",
       "    <tr>\n",
       "      <th>1299</th>\n",
       "      <td>1696.170044</td>\n",
       "    </tr>\n",
       "    <tr>\n",
       "      <th>1300</th>\n",
       "      <td>1692.430054</td>\n",
       "    </tr>\n",
       "    <tr>\n",
       "      <th>1301</th>\n",
       "      <td>1668.949951</td>\n",
       "    </tr>\n",
       "    <tr>\n",
       "      <th>1302</th>\n",
       "      <td>1625.949951</td>\n",
       "    </tr>\n",
       "  </tbody>\n",
       "</table>\n",
       "</div>"
      ],
      "text/plain": [
       "            Close\n",
       "1298  1671.729980\n",
       "1299  1696.170044\n",
       "1300  1692.430054\n",
       "1301  1668.949951\n",
       "1302  1625.949951"
      ]
     },
     "execution_count": 76,
     "metadata": {},
     "output_type": "execute_result"
    }
   ],
   "source": [
    "data_test.head(5)"
   ]
  },
  {
   "cell_type": "code",
   "execution_count": 77,
   "metadata": {},
   "outputs": [
    {
     "data": {
      "text/html": [
       "<div>\n",
       "<style scoped>\n",
       "    .dataframe tbody tr th:only-of-type {\n",
       "        vertical-align: middle;\n",
       "    }\n",
       "\n",
       "    .dataframe tbody tr th {\n",
       "        vertical-align: top;\n",
       "    }\n",
       "\n",
       "    .dataframe thead th {\n",
       "        text-align: right;\n",
       "    }\n",
       "</style>\n",
       "<table border=\"1\" class=\"dataframe\">\n",
       "  <thead>\n",
       "    <tr style=\"text-align: right;\">\n",
       "      <th></th>\n",
       "      <th>Close</th>\n",
       "    </tr>\n",
       "  </thead>\n",
       "  <tbody>\n",
       "    <tr>\n",
       "      <th>1504</th>\n",
       "      <td>1793.000000</td>\n",
       "    </tr>\n",
       "    <tr>\n",
       "      <th>1505</th>\n",
       "      <td>1789.209961</td>\n",
       "    </tr>\n",
       "    <tr>\n",
       "      <th>1506</th>\n",
       "      <td>1868.770020</td>\n",
       "    </tr>\n",
       "    <tr>\n",
       "      <th>1507</th>\n",
       "      <td>1869.800049</td>\n",
       "    </tr>\n",
       "    <tr>\n",
       "      <th>1508</th>\n",
       "      <td>1846.890015</td>\n",
       "    </tr>\n",
       "  </tbody>\n",
       "</table>\n",
       "</div>"
      ],
      "text/plain": [
       "            Close\n",
       "1504  1793.000000\n",
       "1505  1789.209961\n",
       "1506  1868.770020\n",
       "1507  1869.800049\n",
       "1508  1846.890015"
      ]
     },
     "execution_count": 77,
     "metadata": {},
     "output_type": "execute_result"
    }
   ],
   "source": [
    "data_test.tail(5)"
   ]
  },
  {
   "cell_type": "markdown",
   "metadata": {},
   "source": [
    "# Normalize Data (Scale it into range[0,1]"
   ]
  },
  {
   "cell_type": "code",
   "execution_count": 78,
   "metadata": {},
   "outputs": [],
   "source": [
    "#create a MinMaxScaler to normalize data\n",
    "scaler= MinMaxScaler()\n"
   ]
  },
  {
   "cell_type": "code",
   "execution_count": 79,
   "metadata": {},
   "outputs": [
    {
     "data": {
      "text/plain": [
       "MinMaxScaler(copy=True, feature_range=(0, 1))"
      ]
     },
     "execution_count": 79,
     "metadata": {},
     "output_type": "execute_result"
    }
   ],
   "source": [
    "# Ignore the warning : Just converting the data to floats\n",
    "#Only Scale training data\n",
    "\n",
    "#Train the scaler to perform the normalization\n",
    "scaler.fit(data_train)"
   ]
  },
  {
   "cell_type": "code",
   "execution_count": 80,
   "metadata": {},
   "outputs": [],
   "source": [
    "#Normalize the training dataset\n",
    "normalized_train = scaler.transform(data_train)\n",
    "\n",
    "#Normalize the testing dataset\n",
    "normalized_test = scaler.transform(data_test)\n"
   ]
  },
  {
   "cell_type": "markdown",
   "metadata": {},
   "source": [
    "# Create TimeseriesGenerator Instances"
   ]
  },
  {
   "cell_type": "code",
   "execution_count": 83,
   "metadata": {},
   "outputs": [],
   "source": [
    "# TimeseriesGenerator: Generate time series batch for training/testing \n",
    "#set the length of the input sequence\n",
    "# 60 histirical data points to predict new one\n",
    "\n",
    "#batch_size: Number of the time series samples in each batch\n",
    "\n",
    "batch_size32= 32\n",
    "\n",
    "#Create a TimeseriesGenerator for training :train_tsGenerator\n",
    "# It produces time series batchs used to train model\n",
    "# TimeseriesGenerator(input dataset,outputs dataset, length, batch_size)\n",
    "train_tsGenerator60 = TimeseriesGenerator(normalized_train, normalized_train, length= length60, batch_size=batch_size32)\n"
   ]
  },
  {
   "cell_type": "code",
   "execution_count": 84,
   "metadata": {},
   "outputs": [
    {
     "data": {
      "text/plain": [
       "1358"
      ]
     },
     "execution_count": 84,
     "metadata": {},
     "output_type": "execute_result"
    }
   ],
   "source": [
    "len(normalized_train)"
   ]
  },
  {
   "cell_type": "code",
   "execution_count": 85,
   "metadata": {},
   "outputs": [
    {
     "data": {
      "text/plain": [
       "41"
      ]
     },
     "execution_count": 85,
     "metadata": {},
     "output_type": "execute_result"
    }
   ],
   "source": [
    "len(train_tsGenerator60)"
   ]
  },
  {
   "cell_type": "code",
   "execution_count": 87,
   "metadata": {},
   "outputs": [],
   "source": [
    "#look of first batch\n",
    "x,y= train_tsGenerator60[0]"
   ]
  },
  {
   "cell_type": "code",
   "execution_count": 88,
   "metadata": {},
   "outputs": [
    {
     "data": {
      "text/plain": [
       "array([0.06334733, 0.06247432, 0.06087095, ..., 0.00301843, 0.00907813,\n",
       "       0.01009381])"
      ]
     },
     "execution_count": 88,
     "metadata": {},
     "output_type": "execute_result"
    }
   ],
   "source": [
    "#print x.flatten()\n",
    "\n",
    "x.flatten()"
   ]
  },
  {
   "cell_type": "code",
   "execution_count": 89,
   "metadata": {},
   "outputs": [
    {
     "data": {
      "text/plain": [
       "array([[0.02819874],\n",
       "       [0.03197607],\n",
       "       [0.03138836],\n",
       "       [0.02662961],\n",
       "       [0.0205699 ],\n",
       "       [0.01758   ],\n",
       "       [0.02289222],\n",
       "       [0.02559683],\n",
       "       [0.0172091 ],\n",
       "       [0.01413932],\n",
       "       [0.01652439],\n",
       "       [0.01662139],\n",
       "       [0.0209579 ],\n",
       "       [0.02165974],\n",
       "       [0.02506047],\n",
       "       [0.02417606],\n",
       "       [0.02147143],\n",
       "       [0.0286438 ],\n",
       "       [0.00963161],\n",
       "       [0.0054948 ],\n",
       "       [0.00766307],\n",
       "       [0.0098028 ],\n",
       "       [0.01194824],\n",
       "       [0.01201671],\n",
       "       [0.0131807 ],\n",
       "       [0.00595129],\n",
       "       [0.00328661],\n",
       "       [0.00078171],\n",
       "       [0.00301843],\n",
       "       [0.00907813],\n",
       "       [0.01009381],\n",
       "       [0.00608823]])"
      ]
     },
     "execution_count": 89,
     "metadata": {},
     "output_type": "execute_result"
    }
   ],
   "source": [
    "#print y\n",
    "y"
   ]
  },
  {
   "cell_type": "markdown",
   "metadata": {},
   "source": [
    "# Build LSTM Model"
   ]
  },
  {
   "cell_type": "code",
   "execution_count": 90,
   "metadata": {},
   "outputs": [
    {
     "name": "stdout",
     "output_type": "stream",
     "text": [
      "WARNING:tensorflow:From /usr/local/lib/python3.5/dist-packages/tensorflow_core/python/ops/resource_variable_ops.py:1630: calling BaseResourceVariable.__init__ (from tensorflow.python.ops.resource_variable_ops) with constraint is deprecated and will be removed in a future version.\n",
      "Instructions for updating:\n",
      "If using Keras pass *_constraint arguments to layers.\n"
     ]
    }
   ],
   "source": [
    "# Data set : Only one column/attribute: Sine values of index x\n",
    "#Features: How many features used to train the model: only one\n",
    "\n",
    "n_features = 1\n",
    "\n",
    "#define model\n",
    "model = Sequential()\n",
    "\n",
    "#Add a LSTM layer: Using SimpleRNN cells\n",
    "\n",
    "model.add(LSTM(50,activation='relu',return_sequences= True, input_shape=(length60, n_features)))\n",
    "\n",
    "#dropout layer\n",
    "model.add(Dropout(0.2))\n",
    "\n",
    "#Add 2nd LSTM model\n",
    "model.add(LSTM(units=50,activation='relu',return_sequences= True))\n",
    "\n",
    "#dropout layer\n",
    "model.add(Dropout(0.2))\n",
    "\n",
    "#Add 3rd LSTM model\n",
    "model.add(LSTM(units=50,activation='relu'))\n",
    "\n",
    "\n",
    "\n",
    "# Add a fully connected (FC) layer for the final prediction\n",
    "\n",
    "model.add(Dense(1))\n",
    "\n"
   ]
  },
  {
   "cell_type": "markdown",
   "metadata": {},
   "source": [
    "# Compile Model"
   ]
  },
  {
   "cell_type": "code",
   "execution_count": 91,
   "metadata": {},
   "outputs": [
    {
     "name": "stdout",
     "output_type": "stream",
     "text": [
      "Model: \"sequential\"\n",
      "_________________________________________________________________\n",
      "Layer (type)                 Output Shape              Param #   \n",
      "=================================================================\n",
      "lstm (LSTM)                  (None, 60, 50)            10400     \n",
      "_________________________________________________________________\n",
      "dropout (Dropout)            (None, 60, 50)            0         \n",
      "_________________________________________________________________\n",
      "lstm_1 (LSTM)                (None, 60, 50)            20200     \n",
      "_________________________________________________________________\n",
      "dropout_1 (Dropout)          (None, 60, 50)            0         \n",
      "_________________________________________________________________\n",
      "lstm_2 (LSTM)                (None, 50)                20200     \n",
      "_________________________________________________________________\n",
      "dense (Dense)                (None, 1)                 51        \n",
      "=================================================================\n",
      "Total params: 50,851\n",
      "Trainable params: 50,851\n",
      "Non-trainable params: 0\n",
      "_________________________________________________________________\n"
     ]
    }
   ],
   "source": [
    "#compile the model\n",
    "#Loss function : mse ( mean squared error)\n",
    " #optimizer :Adam\n",
    "\n",
    "model.compile(optimizer= 'adam', loss='mse')\n",
    "\n",
    "model.summary()"
   ]
  },
  {
   "cell_type": "markdown",
   "metadata": {},
   "source": [
    "# Train (Fit) Model"
   ]
  },
  {
   "cell_type": "code",
   "execution_count": 92,
   "metadata": {},
   "outputs": [
    {
     "name": "stdout",
     "output_type": "stream",
     "text": [
      "Epoch 1/100\n",
      "WARNING:tensorflow:From /usr/local/lib/python3.5/dist-packages/tensorflow_core/python/ops/math_grad.py:1424: where (from tensorflow.python.ops.array_ops) is deprecated and will be removed in a future version.\n",
      "Instructions for updating:\n",
      "Use tf.where in 2.0, which has the same broadcast rule as np.where\n",
      "41/41 [==============================] - 11s 261ms/step - loss: 0.1139\n",
      "Epoch 2/100\n",
      "41/41 [==============================] - 7s 162ms/step - loss: 0.0103\n",
      "Epoch 3/100\n",
      "41/41 [==============================] - 6s 155ms/step - loss: 0.0133\n",
      "Epoch 4/100\n",
      "41/41 [==============================] - 6s 152ms/step - loss: 0.0178\n",
      "Epoch 5/100\n",
      "41/41 [==============================] - 6s 154ms/step - loss: 0.0025\n",
      "Epoch 6/100\n",
      "41/41 [==============================] - 6s 151ms/step - loss: 0.0019\n",
      "Epoch 7/100\n",
      "41/41 [==============================] - 6s 150ms/step - loss: 0.0017\n",
      "Epoch 8/100\n",
      "41/41 [==============================] - 6s 149ms/step - loss: 0.0019\n",
      "Epoch 9/100\n",
      "41/41 [==============================] - 6s 152ms/step - loss: 0.0014\n",
      "Epoch 10/100\n",
      "41/41 [==============================] - 6s 151ms/step - loss: 0.0017\n",
      "Epoch 11/100\n",
      "41/41 [==============================] - 6s 150ms/step - loss: 0.0015\n",
      "Epoch 12/100\n",
      "41/41 [==============================] - 6s 153ms/step - loss: 0.0015\n",
      "Epoch 13/100\n",
      "41/41 [==============================] - 7s 159ms/step - loss: 0.0014\n",
      "Epoch 14/100\n",
      "41/41 [==============================] - 6s 149ms/step - loss: 0.0017\n",
      "Epoch 15/100\n",
      "41/41 [==============================] - 6s 155ms/step - loss: 0.0022\n",
      "Epoch 16/100\n",
      "41/41 [==============================] - 7s 169ms/step - loss: 0.0023\n",
      "Epoch 17/100\n",
      "41/41 [==============================] - 7s 179ms/step - loss: 0.0019\n",
      "Epoch 18/100\n",
      "41/41 [==============================] - 8s 183ms/step - loss: 0.0020\n",
      "Epoch 19/100\n",
      "41/41 [==============================] - 9s 209ms/step - loss: 0.0021\n",
      "Epoch 20/100\n",
      "41/41 [==============================] - 7s 161ms/step - loss: 0.0017\n",
      "Epoch 21/100\n",
      "41/41 [==============================] - 6s 158ms/step - loss: 0.0019\n",
      "Epoch 22/100\n",
      "41/41 [==============================] - 6s 153ms/step - loss: 0.0014\n",
      "Epoch 23/100\n",
      "41/41 [==============================] - 6s 154ms/step - loss: 0.0019\n",
      "Epoch 24/100\n",
      "41/41 [==============================] - 7s 159ms/step - loss: 0.0025\n",
      "Epoch 25/100\n",
      "41/41 [==============================] - 7s 160ms/step - loss: 0.0017\n",
      "Epoch 26/100\n",
      "41/41 [==============================] - 6s 155ms/step - loss: 0.0019\n",
      "Epoch 27/100\n",
      "41/41 [==============================] - 6s 156ms/step - loss: 0.0014\n",
      "Epoch 28/100\n",
      "41/41 [==============================] - 7s 159ms/step - loss: 0.0013\n",
      "Epoch 29/100\n",
      "41/41 [==============================] - 7s 160ms/step - loss: 0.0015\n",
      "Epoch 30/100\n",
      "41/41 [==============================] - 6s 156ms/step - loss: 0.0017\n",
      "Epoch 31/100\n",
      "41/41 [==============================] - 7s 159ms/step - loss: 0.0024\n",
      "Epoch 32/100\n",
      "41/41 [==============================] - 6s 156ms/step - loss: 0.0015\n",
      "Epoch 33/100\n",
      "41/41 [==============================] - 6s 157ms/step - loss: 0.0016\n",
      "Epoch 34/100\n",
      "41/41 [==============================] - 6s 153ms/step - loss: 0.0013\n",
      "Epoch 35/100\n",
      "41/41 [==============================] - 6s 157ms/step - loss: 0.0014\n",
      "Epoch 36/100\n",
      "41/41 [==============================] - 6s 152ms/step - loss: 0.0021\n",
      "Epoch 37/100\n",
      "41/41 [==============================] - 6s 158ms/step - loss: 0.0019\n",
      "Epoch 38/100\n",
      "41/41 [==============================] - 7s 161ms/step - loss: 0.0030\n",
      "Epoch 39/100\n",
      "41/41 [==============================] - 7s 166ms/step - loss: 0.0016\n",
      "Epoch 40/100\n",
      "41/41 [==============================] - 7s 161ms/step - loss: 0.0016\n",
      "Epoch 41/100\n",
      "41/41 [==============================] - 7s 166ms/step - loss: 0.0024\n",
      "Epoch 42/100\n",
      "41/41 [==============================] - 7s 162ms/step - loss: 0.0059\n",
      "Epoch 43/100\n",
      "41/41 [==============================] - 6s 154ms/step - loss: 0.0023\n",
      "Epoch 44/100\n",
      "41/41 [==============================] - 6s 154ms/step - loss: 0.0014\n",
      "Epoch 45/100\n",
      "41/41 [==============================] - 6s 157ms/step - loss: 0.0011\n",
      "Epoch 46/100\n",
      "41/41 [==============================] - 7s 179ms/step - loss: 0.0012\n",
      "Epoch 47/100\n",
      "41/41 [==============================] - 8s 200ms/step - loss: 0.0015\n",
      "Epoch 48/100\n",
      "41/41 [==============================] - 7s 164ms/step - loss: 0.0025\n",
      "Epoch 49/100\n",
      "41/41 [==============================] - 7s 164ms/step - loss: 0.0013\n",
      "Epoch 50/100\n",
      "41/41 [==============================] - 7s 164ms/step - loss: 0.0015\n",
      "Epoch 51/100\n",
      "41/41 [==============================] - 7s 165ms/step - loss: 0.0015\n",
      "Epoch 52/100\n",
      "41/41 [==============================] - 6s 152ms/step - loss: 0.0014\n",
      "Epoch 53/100\n",
      "41/41 [==============================] - 6s 157ms/step - loss: 0.0027\n",
      "Epoch 54/100\n",
      "41/41 [==============================] - 6s 149ms/step - loss: 0.0018\n",
      "Epoch 55/100\n",
      "41/41 [==============================] - 6s 153ms/step - loss: 0.0017\n",
      "Epoch 56/100\n",
      "41/41 [==============================] - 6s 145ms/step - loss: 0.0015\n",
      "Epoch 57/100\n",
      "41/41 [==============================] - 6s 145ms/step - loss: 0.0016\n",
      "Epoch 58/100\n",
      "41/41 [==============================] - 6s 144ms/step - loss: 0.0020\n",
      "Epoch 59/100\n",
      "41/41 [==============================] - 6s 145ms/step - loss: 0.0012\n",
      "Epoch 60/100\n",
      "41/41 [==============================] - 6s 147ms/step - loss: 0.0026\n",
      "Epoch 61/100\n",
      "41/41 [==============================] - 6s 149ms/step - loss: 0.0024\n",
      "Epoch 62/100\n",
      "41/41 [==============================] - 6s 152ms/step - loss: 0.0013\n",
      "Epoch 63/100\n",
      "41/41 [==============================] - 6s 150ms/step - loss: 0.0010\n",
      "Epoch 64/100\n",
      "41/41 [==============================] - 6s 158ms/step - loss: 0.0011\n",
      "Epoch 65/100\n",
      "41/41 [==============================] - 7s 162ms/step - loss: 0.0013\n",
      "Epoch 66/100\n",
      "41/41 [==============================] - 7s 181ms/step - loss: 0.0014\n",
      "Epoch 67/100\n",
      "41/41 [==============================] - 6s 150ms/step - loss: 0.0010\n",
      "Epoch 68/100\n",
      "41/41 [==============================] - 6s 151ms/step - loss: 0.0013\n",
      "Epoch 69/100\n",
      "41/41 [==============================] - 6s 153ms/step - loss: 0.0013\n",
      "Epoch 70/100\n",
      "41/41 [==============================] - 6s 155ms/step - loss: 0.0022\n",
      "Epoch 71/100\n",
      "41/41 [==============================] - 6s 144ms/step - loss: 0.0012\n",
      "Epoch 72/100\n",
      "41/41 [==============================] - 6s 143ms/step - loss: 0.0011\n",
      "Epoch 73/100\n",
      "41/41 [==============================] - 6s 143ms/step - loss: 0.0011\n",
      "Epoch 74/100\n",
      "41/41 [==============================] - 6s 145ms/step - loss: 0.0017\n",
      "Epoch 75/100\n",
      "41/41 [==============================] - 6s 147ms/step - loss: 0.0024\n",
      "Epoch 76/100\n",
      "41/41 [==============================] - 6s 145ms/step - loss: 0.0120\n",
      "Epoch 77/100\n",
      "41/41 [==============================] - 6s 143ms/step - loss: 0.0030\n",
      "Epoch 78/100\n",
      "41/41 [==============================] - 6s 143ms/step - loss: 0.0013\n",
      "Epoch 79/100\n",
      "41/41 [==============================] - 6s 142ms/step - loss: 0.0015\n",
      "Epoch 80/100\n",
      "41/41 [==============================] - 6s 142ms/step - loss: 0.0012\n",
      "Epoch 81/100\n",
      "41/41 [==============================] - 6s 144ms/step - loss: 0.0013\n",
      "Epoch 82/100\n",
      "41/41 [==============================] - 6s 143ms/step - loss: 0.0011\n",
      "Epoch 83/100\n",
      "41/41 [==============================] - 6s 145ms/step - loss: 0.0010\n",
      "Epoch 84/100\n",
      "41/41 [==============================] - 6s 142ms/step - loss: 0.0013\n",
      "Epoch 85/100\n",
      "41/41 [==============================] - 6s 144ms/step - loss: 0.0012\n",
      "Epoch 86/100\n",
      "41/41 [==============================] - 6s 145ms/step - loss: 9.2914e-04\n",
      "Epoch 87/100\n",
      "41/41 [==============================] - 6s 142ms/step - loss: 9.3831e-04\n",
      "Epoch 88/100\n",
      "41/41 [==============================] - 6s 144ms/step - loss: 0.0025\n",
      "Epoch 89/100\n",
      "41/41 [==============================] - 6s 144ms/step - loss: 0.0012\n",
      "Epoch 90/100\n",
      "41/41 [==============================] - 6s 142ms/step - loss: 0.0014\n",
      "Epoch 91/100\n",
      "41/41 [==============================] - 6s 141ms/step - loss: 0.0012\n",
      "Epoch 92/100\n",
      "41/41 [==============================] - 6s 141ms/step - loss: 0.0011\n",
      "Epoch 93/100\n",
      "41/41 [==============================] - 6s 140ms/step - loss: 0.0012\n",
      "Epoch 94/100\n",
      "41/41 [==============================] - 6s 141ms/step - loss: 0.0012\n",
      "Epoch 95/100\n",
      "41/41 [==============================] - 6s 142ms/step - loss: 0.0018\n",
      "Epoch 96/100\n",
      "41/41 [==============================] - 6s 139ms/step - loss: 0.0015\n",
      "Epoch 97/100\n",
      "41/41 [==============================] - 7s 178ms/step - loss: 0.0015\n",
      "Epoch 98/100\n",
      "41/41 [==============================] - 7s 165ms/step - loss: 9.1802e-04\n",
      "Epoch 99/100\n",
      "41/41 [==============================] - 6s 144ms/step - loss: 0.0014\n",
      "Epoch 100/100\n",
      "41/41 [==============================] - 6s 156ms/step - loss: 0.0011\n"
     ]
    },
    {
     "data": {
      "text/plain": [
       "<tensorflow.python.keras.callbacks.History at 0x7f4382f63940>"
      ]
     },
     "execution_count": 92,
     "metadata": {},
     "output_type": "execute_result"
    }
   ],
   "source": [
    "# Fit the model\n",
    "# Use fit_generator(), Not fot()\n",
    "\n",
    "model.fit_generator(train_tsGenerator60, epochs= 100)\n"
   ]
  },
  {
   "cell_type": "markdown",
   "metadata": {},
   "source": [
    "# Visualize Model's Performance after Training"
   ]
  },
  {
   "cell_type": "code",
   "execution_count": 93,
   "metadata": {},
   "outputs": [
    {
     "data": {
      "text/plain": [
       "dict_keys(['loss'])"
      ]
     },
     "execution_count": 93,
     "metadata": {},
     "output_type": "execute_result"
    }
   ],
   "source": [
    "loss_history_keys = model.history.history.keys()\n",
    "\n",
    "#model.history.history is a dict, \"loss\": key\n",
    "\n",
    "loss_history_keys"
   ]
  },
  {
   "cell_type": "code",
   "execution_count": 94,
   "metadata": {},
   "outputs": [
    {
     "data": {
      "text/plain": [
       "<matplotlib.axes._subplots.AxesSubplot at 0x7f43802cf400>"
      ]
     },
     "execution_count": 94,
     "metadata": {},
     "output_type": "execute_result"
    },
    {
     "data": {
      "image/png": "[encoded data removed]",
      "text/plain": [
       "<Figure size 432x288 with 1 Axes>"
      ]
     },
     "metadata": {
      "needs_background": "light"
     },
     "output_type": "display_data"
    }
   ],
   "source": [
    "#load the loss data into data frame\n",
    "df_model_loss = pd.DataFrame(model.history.history)\n",
    "\n",
    "#visualize the loss data using DataFrame.plot()\n",
    "df_model_loss.plot()"
   ]
  },
  {
   "cell_type": "markdown",
   "metadata": {},
   "source": [
    "# Prediction for Testing: Using TimeseriesGenerator"
   ]
  },
  {
   "cell_type": "markdown",
   "metadata": {},
   "source": [
    "## Create TimeseriesGenerator for Testing"
   ]
  },
  {
   "cell_type": "code",
   "execution_count": 95,
   "metadata": {},
   "outputs": [],
   "source": [
    "#batch size must be 1\n",
    "\n",
    "batch_size1=1 \n",
    "\n",
    "#create a Create TimeseriesGenerator for Testing: test_tGenerator\n",
    "\n",
    "test_tsGenerator60 = TimeseriesGenerator(normalized_test, normalized_test, length=length60,batch_size=batch_size1)"
   ]
  },
  {
   "cell_type": "markdown",
   "metadata": {},
   "source": [
    "# Predict future Data Points for testing"
   ]
  },
  {
   "cell_type": "code",
   "execution_count": 96,
   "metadata": {},
   "outputs": [],
   "source": [
    "normalized_prediction= model.predict_generator(test_tsGenerator60)"
   ]
  },
  {
   "cell_type": "code",
   "execution_count": 97,
   "metadata": {},
   "outputs": [
    {
     "data": {
      "text/plain": [
       "array([[0.87579405],\n",
       "       [0.873674  ],\n",
       "       [0.8715311 ],\n",
       "       [0.86939585],\n",
       "       [0.8668522 ],\n",
       "       [0.8629737 ],\n",
       "       [0.8582145 ],\n",
       "       [0.8530909 ],\n",
       "       [0.8481808 ],\n",
       "       [0.8443297 ],\n",
       "       [0.8423101 ],\n",
       "       [0.8421396 ],\n",
       "       [0.84341097],\n",
       "       [0.84582216],\n",
       "       [0.84896606],\n",
       "       [0.8526356 ],\n",
       "       [0.85670227],\n",
       "       [0.86100334],\n",
       "       [0.8654125 ],\n",
       "       [0.8696726 ],\n",
       "       [0.87363595],\n",
       "       [0.876845  ],\n",
       "       [0.87940913],\n",
       "       [0.8814755 ],\n",
       "       [0.8830342 ],\n",
       "       [0.88442653],\n",
       "       [0.8858795 ],\n",
       "       [0.8874698 ],\n",
       "       [0.8891972 ],\n",
       "       [0.8910812 ],\n",
       "       [0.89340454],\n",
       "       [0.89639634],\n",
       "       [0.8997531 ],\n",
       "       [0.9033123 ],\n",
       "       [0.90697193],\n",
       "       [0.91045815],\n",
       "       [0.9134369 ],\n",
       "       [0.9156743 ],\n",
       "       [0.91704756],\n",
       "       [0.91785383],\n",
       "       [0.9183653 ],\n",
       "       [0.9187842 ],\n",
       "       [0.91892517],\n",
       "       [0.9184848 ],\n",
       "       [0.9171917 ],\n",
       "       [0.91502637],\n",
       "       [0.91190785],\n",
       "       [0.90795964],\n",
       "       [0.9031506 ],\n",
       "       [0.8971302 ],\n",
       "       [0.89041656],\n",
       "       [0.88354945],\n",
       "       [0.8773322 ],\n",
       "       [0.87186265],\n",
       "       [0.86694556],\n",
       "       [0.86296755],\n",
       "       [0.8592955 ],\n",
       "       [0.8559241 ],\n",
       "       [0.8530608 ],\n",
       "       [0.8509914 ],\n",
       "       [0.84957325],\n",
       "       [0.8489037 ],\n",
       "       [0.8486973 ],\n",
       "       [0.84814274],\n",
       "       [0.8472754 ],\n",
       "       [0.84608954],\n",
       "       [0.84470844],\n",
       "       [0.8434999 ],\n",
       "       [0.8424863 ],\n",
       "       [0.84181654],\n",
       "       [0.84160537],\n",
       "       [0.8422146 ],\n",
       "       [0.843522  ],\n",
       "       [0.845304  ],\n",
       "       [0.8472367 ],\n",
       "       [0.8491506 ],\n",
       "       [0.8511378 ],\n",
       "       [0.8531167 ],\n",
       "       [0.8547013 ],\n",
       "       [0.8559435 ],\n",
       "       [0.8568368 ],\n",
       "       [0.8574653 ],\n",
       "       [0.8576051 ],\n",
       "       [0.8571731 ],\n",
       "       [0.85574317],\n",
       "       [0.8537227 ],\n",
       "       [0.85107   ],\n",
       "       [0.8478056 ],\n",
       "       [0.84426624],\n",
       "       [0.8407109 ],\n",
       "       [0.837069  ],\n",
       "       [0.8335699 ],\n",
       "       [0.83053625],\n",
       "       [0.8279928 ],\n",
       "       [0.8256084 ],\n",
       "       [0.82349974],\n",
       "       [0.8216808 ],\n",
       "       [0.8202903 ],\n",
       "       [0.8193857 ],\n",
       "       [0.8192576 ],\n",
       "       [0.81996983],\n",
       "       [0.8214797 ],\n",
       "       [0.8232702 ],\n",
       "       [0.82536346],\n",
       "       [0.82743657],\n",
       "       [0.82928777],\n",
       "       [0.83103824],\n",
       "       [0.8324832 ],\n",
       "       [0.8337565 ],\n",
       "       [0.83473593],\n",
       "       [0.8356077 ],\n",
       "       [0.8363983 ],\n",
       "       [0.83726716],\n",
       "       [0.8383678 ],\n",
       "       [0.8396541 ],\n",
       "       [0.8409856 ],\n",
       "       [0.842194  ],\n",
       "       [0.84318846],\n",
       "       [0.8437812 ],\n",
       "       [0.84404624],\n",
       "       [0.8437641 ],\n",
       "       [0.8429949 ],\n",
       "       [0.84168905],\n",
       "       [0.8401253 ],\n",
       "       [0.8384917 ],\n",
       "       [0.83683026],\n",
       "       [0.8350821 ],\n",
       "       [0.8334223 ],\n",
       "       [0.8322501 ],\n",
       "       [0.8318802 ],\n",
       "       [0.8325093 ],\n",
       "       [0.83382845],\n",
       "       [0.83537644],\n",
       "       [0.83677167],\n",
       "       [0.83775675],\n",
       "       [0.8380488 ],\n",
       "       [0.83780634],\n",
       "       [0.8371621 ],\n",
       "       [0.8361383 ],\n",
       "       [0.834961  ],\n",
       "       [0.8339074 ],\n",
       "       [0.83308995],\n",
       "       [0.8326223 ],\n",
       "       [0.8327118 ],\n",
       "       [0.83325756],\n",
       "       [0.8342144 ],\n",
       "       [0.83540326],\n",
       "       [0.83675444],\n",
       "       [0.8381357 ],\n",
       "       [0.8402524 ],\n",
       "       [0.843154  ]], dtype=float32)"
      ]
     },
     "execution_count": 97,
     "metadata": {},
     "output_type": "execute_result"
    }
   ],
   "source": [
    "#prediction is a numpy 2D array with one cloumn\n",
    "\n",
    "normalized_prediction"
   ]
  },
  {
   "cell_type": "code",
   "execution_count": 98,
   "metadata": {},
   "outputs": [
    {
     "data": {
      "text/plain": [
       "151"
      ]
     },
     "execution_count": 98,
     "metadata": {},
     "output_type": "execute_result"
    }
   ],
   "source": [
    "len(normalized_prediction)"
   ]
  },
  {
   "cell_type": "code",
   "execution_count": 99,
   "metadata": {},
   "outputs": [],
   "source": [
    "#convert normalized prediction back to true values\n",
    "\n",
    "prediction = scaler.inverse_transform(normalized_prediction)"
   ]
  },
  {
   "cell_type": "code",
   "execution_count": 101,
   "metadata": {},
   "outputs": [],
   "source": [
    "#flatten all 2D array\n",
    "\n",
    "#data_train = data_train.reshape((-1))\n",
    "#data_test= data_test.reshape((-1))\n",
    "#prediction = prediction.reshape((-1))\n",
    "\n",
    "prediction_index = np.arange(1358, 1509, step=1)\n",
    "df_prediction= pd.DataFrame(data=prediction, index=prediction_index, columns=['Prediction'])"
   ]
  },
  {
   "cell_type": "code",
   "execution_count": 102,
   "metadata": {},
   "outputs": [
    {
     "data": {
      "text/html": [
       "<div>\n",
       "<style scoped>\n",
       "    .dataframe tbody tr th:only-of-type {\n",
       "        vertical-align: middle;\n",
       "    }\n",
       "\n",
       "    .dataframe tbody tr th {\n",
       "        vertical-align: top;\n",
       "    }\n",
       "\n",
       "    .dataframe thead th {\n",
       "        text-align: right;\n",
       "    }\n",
       "</style>\n",
       "<table border=\"1\" class=\"dataframe\">\n",
       "  <thead>\n",
       "    <tr style=\"text-align: right;\">\n",
       "      <th></th>\n",
       "      <th>Prediction</th>\n",
       "    </tr>\n",
       "  </thead>\n",
       "  <tbody>\n",
       "    <tr>\n",
       "      <th>1358</th>\n",
       "      <td>1821.831665</td>\n",
       "    </tr>\n",
       "    <tr>\n",
       "      <th>1359</th>\n",
       "      <td>1818.115967</td>\n",
       "    </tr>\n",
       "    <tr>\n",
       "      <th>1360</th>\n",
       "      <td>1814.360596</td>\n",
       "    </tr>\n",
       "    <tr>\n",
       "      <th>1361</th>\n",
       "      <td>1810.618408</td>\n",
       "    </tr>\n",
       "    <tr>\n",
       "      <th>1362</th>\n",
       "      <td>1806.160522</td>\n",
       "    </tr>\n",
       "    <tr>\n",
       "      <th>...</th>\n",
       "      <td>...</td>\n",
       "    </tr>\n",
       "    <tr>\n",
       "      <th>1504</th>\n",
       "      <td>1751.044434</td>\n",
       "    </tr>\n",
       "    <tr>\n",
       "      <th>1505</th>\n",
       "      <td>1753.412354</td>\n",
       "    </tr>\n",
       "    <tr>\n",
       "      <th>1506</th>\n",
       "      <td>1755.833130</td>\n",
       "    </tr>\n",
       "    <tr>\n",
       "      <th>1507</th>\n",
       "      <td>1759.542725</td>\n",
       "    </tr>\n",
       "    <tr>\n",
       "      <th>1508</th>\n",
       "      <td>1764.627930</td>\n",
       "    </tr>\n",
       "  </tbody>\n",
       "</table>\n",
       "<p>151 rows × 1 columns</p>\n",
       "</div>"
      ],
      "text/plain": [
       "       Prediction\n",
       "1358  1821.831665\n",
       "1359  1818.115967\n",
       "1360  1814.360596\n",
       "1361  1810.618408\n",
       "1362  1806.160522\n",
       "...           ...\n",
       "1504  1751.044434\n",
       "1505  1753.412354\n",
       "1506  1755.833130\n",
       "1507  1759.542725\n",
       "1508  1764.627930\n",
       "\n",
       "[151 rows x 1 columns]"
      ]
     },
     "execution_count": 102,
     "metadata": {},
     "output_type": "execute_result"
    }
   ],
   "source": [
    "df_prediction"
   ]
  },
  {
   "cell_type": "markdown",
   "metadata": {},
   "source": [
    "# Visualize Prediction"
   ]
  },
  {
   "cell_type": "code",
   "execution_count": 103,
   "metadata": {},
   "outputs": [
    {
     "data": {
      "text/plain": [
       "<matplotlib.axes._subplots.AxesSubplot at 0x7f4380332128>"
      ]
     },
     "execution_count": 103,
     "metadata": {},
     "output_type": "execute_result"
    },
    {
     "data": {
      "image/png": "[encoded data removed]",
      "text/plain": [
       "<Figure size 576x864 with 1 Axes>"
      ]
     },
     "metadata": {
      "needs_background": "light"
     },
     "output_type": "display_data"
    }
   ],
   "source": [
    "ax= data_train.plot()\n",
    "df_prediction.plot(ax=ax, figsize=(8,12))"
   ]
  },
  {
   "cell_type": "markdown",
   "metadata": {},
   "source": [
    "# Visulaize prediction and compare actual close price"
   ]
  },
  {
   "cell_type": "code",
   "execution_count": 104,
   "metadata": {},
   "outputs": [
    {
     "data": {
      "text/plain": [
       "<matplotlib.axes._subplots.AxesSubplot at 0x7f43802c60b8>"
      ]
     },
     "execution_count": 104,
     "metadata": {},
     "output_type": "execute_result"
    },
    {
     "data": {
      "image/png": "[encoded data removed]",
      "text/plain": [
       "<Figure size 576x864 with 1 Axes>"
      ]
     },
     "metadata": {
      "needs_background": "light"
     },
     "output_type": "display_data"
    }
   ],
   "source": [
    "ax= df.plot()\n",
    "df_prediction.plot(ax=ax, figsize=(8,12))\n"
   ]
  },
  {
   "cell_type": "markdown",
   "metadata": {},
   "source": [
    "# Timeseries Forecasting with LSTM\n",
    "## Preprocess Full Input Dataset"
   ]
  },
  {
   "cell_type": "code",
   "execution_count": 105,
   "metadata": {},
   "outputs": [],
   "source": [
    "full_scaler= MinMaxScaler()\n",
    "normalized_full_data= full_scaler.fit_transform(df)"
   ]
  },
  {
   "cell_type": "markdown",
   "metadata": {},
   "source": [
    "## Create TimeseriesGenarator for Forcasting"
   ]
  },
  {
   "cell_type": "code",
   "execution_count": 106,
   "metadata": {},
   "outputs": [
    {
     "data": {
      "text/plain": [
       "60"
      ]
     },
     "execution_count": 106,
     "metadata": {},
     "output_type": "execute_result"
    }
   ],
   "source": [
    "#Number of time steps of the input time series\n",
    "#still use length60:\n",
    "\n",
    "length60"
   ]
  },
  {
   "cell_type": "code",
   "execution_count": 107,
   "metadata": {},
   "outputs": [],
   "source": [
    "# Create TimeseriesGenarator for Forcasting\n",
    "\n",
    "forecast_tsGenerator= TimeseriesGenerator(normalized_full_data, normalized_full_data, length=length60, batch_size=batch_size32)"
   ]
  },
  {
   "cell_type": "markdown",
   "metadata": {},
   "source": [
    "# Bulid, compile and fit LSTM Model for Forecasting"
   ]
  },
  {
   "cell_type": "code",
   "execution_count": 108,
   "metadata": {},
   "outputs": [
    {
     "name": "stdout",
     "output_type": "stream",
     "text": [
      "Epoch 1/100\n",
      "46/46 [==============================] - 7s 146ms/step - loss: 0.0012\n",
      "Epoch 2/100\n",
      "46/46 [==============================] - 7s 143ms/step - loss: 0.0013\n",
      "Epoch 3/100\n",
      "46/46 [==============================] - 7s 142ms/step - loss: 0.0010\n",
      "Epoch 4/100\n",
      "46/46 [==============================] - 7s 142ms/step - loss: 0.0017\n",
      "Epoch 5/100\n",
      "46/46 [==============================] - 7s 143ms/step - loss: 0.0014\n",
      "Epoch 6/100\n",
      "46/46 [==============================] - 7s 142ms/step - loss: 0.0012\n",
      "Epoch 7/100\n",
      "46/46 [==============================] - 8s 171ms/step - loss: 0.0012\n",
      "Epoch 8/100\n",
      "46/46 [==============================] - 7s 142ms/step - loss: 0.0015\n",
      "Epoch 9/100\n",
      "46/46 [==============================] - 6s 141ms/step - loss: 0.0014\n",
      "Epoch 10/100\n",
      "46/46 [==============================] - 7s 144ms/step - loss: 0.0012\n",
      "Epoch 11/100\n",
      "46/46 [==============================] - 7s 144ms/step - loss: 0.0011\n",
      "Epoch 12/100\n",
      "46/46 [==============================] - 7s 144ms/step - loss: 0.0015\n",
      "Epoch 13/100\n",
      "46/46 [==============================] - 7s 148ms/step - loss: 0.0012\n",
      "Epoch 14/100\n",
      "46/46 [==============================] - 7s 146ms/step - loss: 0.0012\n",
      "Epoch 15/100\n",
      "46/46 [==============================] - 7s 147ms/step - loss: 9.6434e-04\n",
      "Epoch 16/100\n",
      "46/46 [==============================] - 7s 145ms/step - loss: 0.0012\n",
      "Epoch 17/100\n",
      "46/46 [==============================] - 7s 144ms/step - loss: 0.0012\n",
      "Epoch 18/100\n",
      "46/46 [==============================] - 6s 141ms/step - loss: 0.0018\n",
      "Epoch 19/100\n",
      "46/46 [==============================] - 7s 145ms/step - loss: 0.0010\n",
      "Epoch 20/100\n",
      "46/46 [==============================] - 7s 145ms/step - loss: 0.0015\n",
      "Epoch 21/100\n",
      "46/46 [==============================] - 7s 144ms/step - loss: 0.0012\n",
      "Epoch 22/100\n",
      "46/46 [==============================] - 7s 144ms/step - loss: 0.0012\n",
      "Epoch 23/100\n",
      "46/46 [==============================] - 7s 144ms/step - loss: 0.0011\n",
      "Epoch 24/100\n",
      "46/46 [==============================] - 7s 144ms/step - loss: 8.9839e-04\n",
      "Epoch 25/100\n",
      "46/46 [==============================] - 7s 147ms/step - loss: 0.0014\n",
      "Epoch 26/100\n",
      "46/46 [==============================] - 7s 147ms/step - loss: 0.0022\n",
      "Epoch 27/100\n",
      "46/46 [==============================] - 7s 145ms/step - loss: 0.0022\n",
      "Epoch 28/100\n",
      "46/46 [==============================] - 7s 143ms/step - loss: 0.0011\n",
      "Epoch 29/100\n",
      "46/46 [==============================] - 6s 141ms/step - loss: 9.7519e-04\n",
      "Epoch 30/100\n",
      "46/46 [==============================] - 7s 144ms/step - loss: 0.0011\n",
      "Epoch 31/100\n",
      "46/46 [==============================] - 6s 141ms/step - loss: 9.2436e-04\n",
      "Epoch 32/100\n",
      "46/46 [==============================] - 7s 144ms/step - loss: 0.0012\n",
      "Epoch 33/100\n",
      "46/46 [==============================] - 7s 143ms/step - loss: 0.0010\n",
      "Epoch 34/100\n",
      "46/46 [==============================] - 7s 144ms/step - loss: 0.0012\n",
      "Epoch 35/100\n",
      "46/46 [==============================] - 6s 140ms/step - loss: 0.0016\n",
      "Epoch 36/100\n",
      "46/46 [==============================] - 6s 141ms/step - loss: 0.0010\n",
      "Epoch 37/100\n",
      "46/46 [==============================] - 7s 143ms/step - loss: 9.6924e-04\n",
      "Epoch 38/100\n",
      "46/46 [==============================] - 7s 142ms/step - loss: 0.0010\n",
      "Epoch 39/100\n",
      "46/46 [==============================] - 6s 141ms/step - loss: 0.0011\n",
      "Epoch 40/100\n",
      "46/46 [==============================] - 7s 142ms/step - loss: 0.0012\n",
      "Epoch 41/100\n",
      "46/46 [==============================] - 7s 159ms/step - loss: 0.0024\n",
      "Epoch 42/100\n",
      "46/46 [==============================] - 8s 173ms/step - loss: 0.0023\n",
      "Epoch 43/100\n",
      "46/46 [==============================] - 6s 141ms/step - loss: 0.0012\n",
      "Epoch 44/100\n",
      "46/46 [==============================] - 6s 139ms/step - loss: 0.0016\n",
      "Epoch 45/100\n",
      "46/46 [==============================] - 7s 142ms/step - loss: 0.0013\n",
      "Epoch 46/100\n",
      "46/46 [==============================] - 6s 140ms/step - loss: 0.0011\n",
      "Epoch 47/100\n",
      "46/46 [==============================] - 6s 140ms/step - loss: 0.0010\n",
      "Epoch 48/100\n",
      "46/46 [==============================] - 6s 140ms/step - loss: 9.3971e-04\n",
      "Epoch 49/100\n",
      "46/46 [==============================] - 7s 141ms/step - loss: 0.0011\n",
      "Epoch 50/100\n",
      "46/46 [==============================] - 6s 139ms/step - loss: 0.0013\n",
      "Epoch 51/100\n",
      "46/46 [==============================] - 6s 140ms/step - loss: 0.0012\n",
      "Epoch 52/100\n",
      "46/46 [==============================] - 6s 140ms/step - loss: 9.0933e-04\n",
      "Epoch 53/100\n",
      "46/46 [==============================] - 8s 169ms/step - loss: 9.6468e-04\n",
      "Epoch 54/100\n",
      "46/46 [==============================] - 7s 143ms/step - loss: 0.0013\n",
      "Epoch 55/100\n",
      "46/46 [==============================] - 7s 142ms/step - loss: 9.3553e-04\n",
      "Epoch 56/100\n",
      "46/46 [==============================] - 6s 139ms/step - loss: 0.0019\n",
      "Epoch 57/100\n",
      "46/46 [==============================] - 7s 141ms/step - loss: 0.0012\n",
      "Epoch 58/100\n",
      "46/46 [==============================] - 6s 140ms/step - loss: 0.0010\n",
      "Epoch 59/100\n",
      "46/46 [==============================] - 6s 139ms/step - loss: 8.3042e-04\n",
      "Epoch 60/100\n",
      "46/46 [==============================] - 6s 139ms/step - loss: 0.0014\n",
      "Epoch 61/100\n",
      "46/46 [==============================] - 6s 141ms/step - loss: 8.9163e-04\n",
      "Epoch 62/100\n",
      "46/46 [==============================] - 7s 144ms/step - loss: 9.2601e-04\n",
      "Epoch 63/100\n",
      "46/46 [==============================] - 6s 140ms/step - loss: 8.3479e-04\n",
      "Epoch 64/100\n",
      "46/46 [==============================] - 7s 142ms/step - loss: 0.0010\n",
      "Epoch 65/100\n",
      "46/46 [==============================] - 6s 141ms/step - loss: 0.0017\n",
      "Epoch 66/100\n",
      "46/46 [==============================] - 6s 141ms/step - loss: 0.0010\n",
      "Epoch 67/100\n",
      "46/46 [==============================] - 6s 139ms/step - loss: 8.8837e-04\n",
      "Epoch 68/100\n",
      "46/46 [==============================] - 7s 142ms/step - loss: 9.1860e-04\n",
      "Epoch 69/100\n",
      "46/46 [==============================] - 6s 140ms/step - loss: 8.1599e-04\n",
      "Epoch 70/100\n",
      "46/46 [==============================] - 7s 143ms/step - loss: 8.6870e-04\n",
      "Epoch 71/100\n",
      "46/46 [==============================] - 7s 143ms/step - loss: 8.6690e-04\n",
      "Epoch 72/100\n",
      "46/46 [==============================] - 7s 146ms/step - loss: 9.4008e-04\n",
      "Epoch 73/100\n",
      "46/46 [==============================] - 7s 145ms/step - loss: 0.0013\n",
      "Epoch 74/100\n",
      "46/46 [==============================] - 7s 145ms/step - loss: 9.4551e-04\n",
      "Epoch 75/100\n",
      "46/46 [==============================] - 7s 143ms/step - loss: 9.2014e-04\n",
      "Epoch 76/100\n",
      "46/46 [==============================] - 7s 143ms/step - loss: 0.0013\n",
      "Epoch 77/100\n",
      "46/46 [==============================] - 6s 140ms/step - loss: 8.5605e-04\n",
      "Epoch 78/100\n",
      "46/46 [==============================] - 7s 144ms/step - loss: 9.5788e-04\n",
      "Epoch 79/100\n",
      "46/46 [==============================] - 7s 143ms/step - loss: 0.0011\n",
      "Epoch 80/100\n",
      "46/46 [==============================] - 6s 141ms/step - loss: 9.7749e-04\n",
      "Epoch 81/100\n",
      "46/46 [==============================] - 6s 140ms/step - loss: 8.4099e-04\n",
      "Epoch 82/100\n",
      "46/46 [==============================] - 6s 139ms/step - loss: 8.4316e-04\n",
      "Epoch 83/100\n",
      "46/46 [==============================] - 6s 138ms/step - loss: 8.6681e-04\n",
      "Epoch 84/100\n",
      "46/46 [==============================] - 6s 139ms/step - loss: 8.9153e-04\n",
      "Epoch 85/100\n",
      "46/46 [==============================] - 6s 137ms/step - loss: 0.0011\n",
      "Epoch 86/100\n",
      "46/46 [==============================] - 6s 141ms/step - loss: 8.7758e-04\n",
      "Epoch 87/100\n",
      "46/46 [==============================] - 6s 140ms/step - loss: 8.5164e-04\n",
      "Epoch 88/100\n",
      "46/46 [==============================] - 6s 140ms/step - loss: 0.0012\n",
      "Epoch 89/100\n",
      "46/46 [==============================] - 8s 179ms/step - loss: 8.9214e-04\n",
      "Epoch 90/100\n",
      "46/46 [==============================] - 7s 150ms/step - loss: 8.8760e-04\n",
      "Epoch 91/100\n",
      "46/46 [==============================] - 6s 140ms/step - loss: 9.1158e-04\n",
      "Epoch 92/100\n",
      "46/46 [==============================] - 6s 136ms/step - loss: 8.5037e-04\n",
      "Epoch 93/100\n",
      "46/46 [==============================] - 6s 138ms/step - loss: 0.0016\n",
      "Epoch 94/100\n",
      "46/46 [==============================] - 6s 135ms/step - loss: 0.0010\n",
      "Epoch 95/100\n",
      "46/46 [==============================] - 6s 135ms/step - loss: 8.5740e-04\n",
      "Epoch 96/100\n",
      "46/46 [==============================] - 6s 136ms/step - loss: 7.1812e-04\n",
      "Epoch 97/100\n",
      "46/46 [==============================] - 6s 136ms/step - loss: 9.4937e-04\n",
      "Epoch 98/100\n",
      "46/46 [==============================] - 6s 138ms/step - loss: 9.6024e-04\n",
      "Epoch 99/100\n",
      "46/46 [==============================] - 6s 138ms/step - loss: 0.0011\n",
      "Epoch 100/100\n",
      "46/46 [==============================] - 8s 165ms/step - loss: 0.0012\n"
     ]
    },
    {
     "data": {
      "text/plain": [
       "<tensorflow.python.keras.callbacks.History at 0x7f4381e830f0>"
      ]
     },
     "execution_count": 108,
     "metadata": {},
     "output_type": "execute_result"
    }
   ],
   "source": [
    "#Train/fit LSTM Model\n",
    "#in forecasting, we dont validate, only forecast\n",
    "\n",
    "model.fit_generator(forecast_tsGenerator, epochs= 100)"
   ]
  },
  {
   "cell_type": "markdown",
   "metadata": {},
   "source": [
    "# Time series Forecasting using LSTM Neural Network: 01/01/2020-04/16/2020"
   ]
  },
  {
   "cell_type": "code",
   "execution_count": 158,
   "metadata": {},
   "outputs": [],
   "source": [
    "forecast= []\n",
    "\n",
    "#set peroid with time span of forecasting\n",
    "#forecast for next 73 business days\n",
    "\n",
    "Periods =73\n",
    "\n",
    "first_eval_batch= normalized_full_data[-length60:]\n",
    "current_batch= first_eval_batch.reshape((1,length60, n_features))\n",
    "for i in range(Periods):\n",
    "    \n",
    "    #get prediction 1 time stamp ahead([0] is for grabbing just the number instead of [array])\n",
    "    current_pred = model.predict(current_batch)[0]\n",
    "    \n",
    "    #store prediction\n",
    "    forecast.append(current_pred)\n",
    "    \n",
    "    # update batch to now include preduction and drop first value\n",
    "    current_batch = np.append(current_batch[:,1:,:],[[current_pred]],axis =1)"
   ]
  },
  {
   "cell_type": "markdown",
   "metadata": {},
   "source": [
    "# Inverse to Transform Normalized Data Back into True Values"
   ]
  },
  {
   "cell_type": "code",
   "execution_count": 159,
   "metadata": {},
   "outputs": [
    {
     "data": {
      "text/plain": [
       "array([[1882.22382311],\n",
       "       [1892.45627256],\n",
       "       [1902.84750229],\n",
       "       [1913.06898337],\n",
       "       [1922.88254534],\n",
       "       [1932.16001492],\n",
       "       [1940.84466994],\n",
       "       [1948.92011006],\n",
       "       [1956.39281185],\n",
       "       [1963.2792801 ],\n",
       "       [1969.60385416],\n",
       "       [1975.39285813],\n",
       "       [1980.67982389],\n",
       "       [1985.53379999],\n",
       "       [1989.98393095],\n",
       "       [1994.05789888],\n",
       "       [1997.78014758],\n",
       "       [2001.17459855],\n",
       "       [2004.26444207],\n",
       "       [2007.07265951],\n",
       "       [2009.62108314],\n",
       "       [2011.93018727],\n",
       "       [2014.02034174],\n",
       "       [2015.90961825],\n",
       "       [2017.61598405],\n",
       "       [2019.15531716],\n",
       "       [2020.54297331],\n",
       "       [2021.7925324 ],\n",
       "       [2022.91736539],\n",
       "       [2023.92875404],\n",
       "       [2024.83787566],\n",
       "       [2025.65475846],\n",
       "       [2026.38786376],\n",
       "       [2027.04607073],\n",
       "       [2027.63679608],\n",
       "       [2028.16620299],\n",
       "       [2028.64097695],\n",
       "       [2029.06665437],\n",
       "       [2029.44804044],\n",
       "       [2029.7898359 ],\n",
       "       [2030.09621918],\n",
       "       [2030.37042856],\n",
       "       [2030.61632909],\n",
       "       [2030.83642782],\n",
       "       [2031.03364965],\n",
       "       [2031.2106061 ],\n",
       "       [2031.36886409],\n",
       "       [2031.51061728],\n",
       "       [2031.63795489],\n",
       "       [2031.75181707],\n",
       "       [2031.85397965],\n",
       "       [2031.94527832],\n",
       "       [2032.0274889 ],\n",
       "       [2032.10113371],\n",
       "       [2032.16694396],\n",
       "       [2032.22617319],\n",
       "       [2032.27923923],\n",
       "       [2032.32697778],\n",
       "       [2032.36949329],\n",
       "       [2032.40772591],\n",
       "       [2032.44230241],\n",
       "       [2032.4729094 ],\n",
       "       [2032.50059149],\n",
       "       [2032.52566206],\n",
       "       [2032.54780773],\n",
       "       [2032.56775973],\n",
       "       [2032.58583143],\n",
       "       [2032.60191838],\n",
       "       [2032.6162295 ],\n",
       "       [2032.62928709],\n",
       "       [2032.64088223],\n",
       "       [2032.65153722],\n",
       "       [2032.66072976]])"
      ]
     },
     "execution_count": 159,
     "metadata": {},
     "output_type": "execute_result"
    }
   ],
   "source": [
    "forecast = full_scaler.inverse_transform(forecast)\n",
    "forecast"
   ]
  },
  {
   "cell_type": "code",
   "execution_count": 160,
   "metadata": {},
   "outputs": [
    {
     "data": {
      "text/html": [
       "<div>\n",
       "<style scoped>\n",
       "    .dataframe tbody tr th:only-of-type {\n",
       "        vertical-align: middle;\n",
       "    }\n",
       "\n",
       "    .dataframe tbody tr th {\n",
       "        vertical-align: top;\n",
       "    }\n",
       "\n",
       "    .dataframe thead th {\n",
       "        text-align: right;\n",
       "    }\n",
       "</style>\n",
       "<table border=\"1\" class=\"dataframe\">\n",
       "  <thead>\n",
       "    <tr style=\"text-align: right;\">\n",
       "      <th></th>\n",
       "      <th>Close</th>\n",
       "    </tr>\n",
       "  </thead>\n",
       "  <tbody>\n",
       "    <tr>\n",
       "      <th>0</th>\n",
       "      <td>397.970001</td>\n",
       "    </tr>\n",
       "    <tr>\n",
       "      <th>1</th>\n",
       "      <td>396.440002</td>\n",
       "    </tr>\n",
       "    <tr>\n",
       "      <th>2</th>\n",
       "      <td>393.630005</td>\n",
       "    </tr>\n",
       "    <tr>\n",
       "      <th>3</th>\n",
       "      <td>398.029999</td>\n",
       "    </tr>\n",
       "    <tr>\n",
       "      <th>4</th>\n",
       "      <td>401.920013</td>\n",
       "    </tr>\n",
       "    <tr>\n",
       "      <th>...</th>\n",
       "      <td>...</td>\n",
       "    </tr>\n",
       "    <tr>\n",
       "      <th>1504</th>\n",
       "      <td>1793.000000</td>\n",
       "    </tr>\n",
       "    <tr>\n",
       "      <th>1505</th>\n",
       "      <td>1789.209961</td>\n",
       "    </tr>\n",
       "    <tr>\n",
       "      <th>1506</th>\n",
       "      <td>1868.770020</td>\n",
       "    </tr>\n",
       "    <tr>\n",
       "      <th>1507</th>\n",
       "      <td>1869.800049</td>\n",
       "    </tr>\n",
       "    <tr>\n",
       "      <th>1508</th>\n",
       "      <td>1846.890015</td>\n",
       "    </tr>\n",
       "  </tbody>\n",
       "</table>\n",
       "<p>1509 rows × 1 columns</p>\n",
       "</div>"
      ],
      "text/plain": [
       "            Close\n",
       "0      397.970001\n",
       "1      396.440002\n",
       "2      393.630005\n",
       "3      398.029999\n",
       "4      401.920013\n",
       "...           ...\n",
       "1504  1793.000000\n",
       "1505  1789.209961\n",
       "1506  1868.770020\n",
       "1507  1869.800049\n",
       "1508  1846.890015\n",
       "\n",
       "[1509 rows x 1 columns]"
      ]
     },
     "execution_count": 160,
     "metadata": {},
     "output_type": "execute_result"
    }
   ],
   "source": [
    "df"
   ]
  },
  {
   "cell_type": "markdown",
   "metadata": {},
   "source": [
    "# Creating new timestamp index with pandas 01/01/2020-06/15/2020"
   ]
  },
  {
   "cell_type": "code",
   "execution_count": 161,
   "metadata": {},
   "outputs": [],
   "source": [
    "#Calculate forecast index\n",
    "\n",
    "forecast_index= np.arange( 1509, 1582, step=1)"
   ]
  },
  {
   "cell_type": "code",
   "execution_count": 162,
   "metadata": {},
   "outputs": [
    {
     "data": {
      "text/html": [
       "<div>\n",
       "<style scoped>\n",
       "    .dataframe tbody tr th:only-of-type {\n",
       "        vertical-align: middle;\n",
       "    }\n",
       "\n",
       "    .dataframe tbody tr th {\n",
       "        vertical-align: top;\n",
       "    }\n",
       "\n",
       "    .dataframe thead th {\n",
       "        text-align: right;\n",
       "    }\n",
       "</style>\n",
       "<table border=\"1\" class=\"dataframe\">\n",
       "  <thead>\n",
       "    <tr style=\"text-align: right;\">\n",
       "      <th></th>\n",
       "      <th>Forecast</th>\n",
       "    </tr>\n",
       "  </thead>\n",
       "  <tbody>\n",
       "    <tr>\n",
       "      <th>1509</th>\n",
       "      <td>1882.223823</td>\n",
       "    </tr>\n",
       "    <tr>\n",
       "      <th>1510</th>\n",
       "      <td>1892.456273</td>\n",
       "    </tr>\n",
       "    <tr>\n",
       "      <th>1511</th>\n",
       "      <td>1902.847502</td>\n",
       "    </tr>\n",
       "    <tr>\n",
       "      <th>1512</th>\n",
       "      <td>1913.068983</td>\n",
       "    </tr>\n",
       "    <tr>\n",
       "      <th>1513</th>\n",
       "      <td>1922.882545</td>\n",
       "    </tr>\n",
       "    <tr>\n",
       "      <th>...</th>\n",
       "      <td>...</td>\n",
       "    </tr>\n",
       "    <tr>\n",
       "      <th>1577</th>\n",
       "      <td>2032.616229</td>\n",
       "    </tr>\n",
       "    <tr>\n",
       "      <th>1578</th>\n",
       "      <td>2032.629287</td>\n",
       "    </tr>\n",
       "    <tr>\n",
       "      <th>1579</th>\n",
       "      <td>2032.640882</td>\n",
       "    </tr>\n",
       "    <tr>\n",
       "      <th>1580</th>\n",
       "      <td>2032.651537</td>\n",
       "    </tr>\n",
       "    <tr>\n",
       "      <th>1581</th>\n",
       "      <td>2032.660730</td>\n",
       "    </tr>\n",
       "  </tbody>\n",
       "</table>\n",
       "<p>73 rows × 1 columns</p>\n",
       "</div>"
      ],
      "text/plain": [
       "         Forecast\n",
       "1509  1882.223823\n",
       "1510  1892.456273\n",
       "1511  1902.847502\n",
       "1512  1913.068983\n",
       "1513  1922.882545\n",
       "...           ...\n",
       "1577  2032.616229\n",
       "1578  2032.629287\n",
       "1579  2032.640882\n",
       "1580  2032.651537\n",
       "1581  2032.660730\n",
       "\n",
       "[73 rows x 1 columns]"
      ]
     },
     "execution_count": 162,
     "metadata": {},
     "output_type": "execute_result"
    }
   ],
   "source": [
    "forecast_df = pd.DataFrame(data= forecast, index=forecast_index, columns=['Forecast'])\n",
    "\n",
    "forecast_df"
   ]
  },
  {
   "cell_type": "markdown",
   "metadata": {},
   "source": [
    "# Plot the forecast"
   ]
  },
  {
   "cell_type": "code",
   "execution_count": 163,
   "metadata": {},
   "outputs": [
    {
     "data": {
      "text/plain": [
       "<matplotlib.axes._subplots.AxesSubplot at 0x7f4380c4ad68>"
      ]
     },
     "execution_count": 163,
     "metadata": {},
     "output_type": "execute_result"
    },
    {
     "data": {
      "image/png": "[encoded data removed]",
      "text/plain": [
       "<Figure size 432x288 with 1 Axes>"
      ]
     },
     "metadata": {
      "needs_background": "light"
     },
     "output_type": "display_data"
    },
    {
     "data": {
      "image/png": "[encoded data removed]",
      "text/plain": [
       "<Figure size 432x288 with 1 Axes>"
      ]
     },
     "metadata": {
      "needs_background": "light"
     },
     "output_type": "display_data"
    }
   ],
   "source": [
    "df.plot()\n",
    "forecast_df.plot()"
   ]
  },
  {
   "cell_type": "markdown",
   "metadata": {},
   "source": [
    "# Joining Pandas Plots"
   ]
  },
  {
   "cell_type": "code",
   "execution_count": 164,
   "metadata": {},
   "outputs": [
    {
     "data": {
      "text/plain": [
       "<matplotlib.axes._subplots.AxesSubplot at 0x7f4380c0e048>"
      ]
     },
     "execution_count": 164,
     "metadata": {},
     "output_type": "execute_result"
    },
    {
     "data": {
      "image/png": "[encoded data removed]",
      "text/plain": [
       "<Figure size 864x576 with 1 Axes>"
      ]
     },
     "metadata": {
      "needs_background": "light"
     },
     "output_type": "display_data"
    }
   ],
   "source": [
    "ax= df.plot()\n",
    "forecast_df.plot(ax=ax, figsize=(12,8))"
   ]
  },
  {
   "cell_type": "code",
   "execution_count": 165,
   "metadata": {},
   "outputs": [],
   "source": [
    "dir_path_dataset_2 = '/home/reeyabhusal/AMZN1.csv'"
   ]
  },
  {
   "cell_type": "code",
   "execution_count": 166,
   "metadata": {},
   "outputs": [],
   "source": [
    "df_ALL_JAN_APRIL_2020 = pd.read_csv(dir_path_dataset_2)"
   ]
  },
  {
   "cell_type": "code",
   "execution_count": 167,
   "metadata": {},
   "outputs": [
    {
     "data": {
      "text/html": [
       "<div>\n",
       "<style scoped>\n",
       "    .dataframe tbody tr th:only-of-type {\n",
       "        vertical-align: middle;\n",
       "    }\n",
       "\n",
       "    .dataframe tbody tr th {\n",
       "        vertical-align: top;\n",
       "    }\n",
       "\n",
       "    .dataframe thead th {\n",
       "        text-align: right;\n",
       "    }\n",
       "</style>\n",
       "<table border=\"1\" class=\"dataframe\">\n",
       "  <thead>\n",
       "    <tr style=\"text-align: right;\">\n",
       "      <th></th>\n",
       "      <th>Date</th>\n",
       "      <th>Open</th>\n",
       "      <th>High</th>\n",
       "      <th>Low</th>\n",
       "      <th>Close</th>\n",
       "      <th>Adj Close</th>\n",
       "      <th>Volume</th>\n",
       "    </tr>\n",
       "  </thead>\n",
       "  <tbody>\n",
       "    <tr>\n",
       "      <th>0</th>\n",
       "      <td>2020-01-02</td>\n",
       "      <td>1875.000000</td>\n",
       "      <td>1898.010010</td>\n",
       "      <td>1864.150024</td>\n",
       "      <td>1898.010010</td>\n",
       "      <td>1898.010010</td>\n",
       "      <td>4029000</td>\n",
       "    </tr>\n",
       "    <tr>\n",
       "      <th>1</th>\n",
       "      <td>2020-01-03</td>\n",
       "      <td>1864.500000</td>\n",
       "      <td>1886.199951</td>\n",
       "      <td>1864.500000</td>\n",
       "      <td>1874.969971</td>\n",
       "      <td>1874.969971</td>\n",
       "      <td>3764400</td>\n",
       "    </tr>\n",
       "    <tr>\n",
       "      <th>2</th>\n",
       "      <td>2020-01-06</td>\n",
       "      <td>1860.000000</td>\n",
       "      <td>1903.689941</td>\n",
       "      <td>1860.000000</td>\n",
       "      <td>1902.880005</td>\n",
       "      <td>1902.880005</td>\n",
       "      <td>4061800</td>\n",
       "    </tr>\n",
       "    <tr>\n",
       "      <th>3</th>\n",
       "      <td>2020-01-07</td>\n",
       "      <td>1904.500000</td>\n",
       "      <td>1913.890015</td>\n",
       "      <td>1892.040039</td>\n",
       "      <td>1906.859985</td>\n",
       "      <td>1906.859985</td>\n",
       "      <td>4044900</td>\n",
       "    </tr>\n",
       "    <tr>\n",
       "      <th>4</th>\n",
       "      <td>2020-01-08</td>\n",
       "      <td>1898.040039</td>\n",
       "      <td>1911.000000</td>\n",
       "      <td>1886.439941</td>\n",
       "      <td>1891.969971</td>\n",
       "      <td>1891.969971</td>\n",
       "      <td>3508000</td>\n",
       "    </tr>\n",
       "  </tbody>\n",
       "</table>\n",
       "</div>"
      ],
      "text/plain": [
       "         Date         Open         High          Low        Close  \\\n",
       "0  2020-01-02  1875.000000  1898.010010  1864.150024  1898.010010   \n",
       "1  2020-01-03  1864.500000  1886.199951  1864.500000  1874.969971   \n",
       "2  2020-01-06  1860.000000  1903.689941  1860.000000  1902.880005   \n",
       "3  2020-01-07  1904.500000  1913.890015  1892.040039  1906.859985   \n",
       "4  2020-01-08  1898.040039  1911.000000  1886.439941  1891.969971   \n",
       "\n",
       "     Adj Close   Volume  \n",
       "0  1898.010010  4029000  \n",
       "1  1874.969971  3764400  \n",
       "2  1902.880005  4061800  \n",
       "3  1906.859985  4044900  \n",
       "4  1891.969971  3508000  "
      ]
     },
     "execution_count": 167,
     "metadata": {},
     "output_type": "execute_result"
    }
   ],
   "source": [
    "df_ALL_JAN_APRIL_2020.head()"
   ]
  },
  {
   "cell_type": "code",
   "execution_count": 168,
   "metadata": {},
   "outputs": [
    {
     "data": {
      "text/plain": [
       "(73, 7)"
      ]
     },
     "execution_count": 168,
     "metadata": {},
     "output_type": "execute_result"
    }
   ],
   "source": [
    "df_ALL_JAN_APRIL_2020.shape"
   ]
  },
  {
   "cell_type": "code",
   "execution_count": 169,
   "metadata": {},
   "outputs": [],
   "source": [
    "df_JAN_APRIL_2020 = df_ALL_JAN_APRIL_2020.iloc[:,4:5]"
   ]
  },
  {
   "cell_type": "code",
   "execution_count": 170,
   "metadata": {},
   "outputs": [
    {
     "data": {
      "text/html": [
       "<div>\n",
       "<style scoped>\n",
       "    .dataframe tbody tr th:only-of-type {\n",
       "        vertical-align: middle;\n",
       "    }\n",
       "\n",
       "    .dataframe tbody tr th {\n",
       "        vertical-align: top;\n",
       "    }\n",
       "\n",
       "    .dataframe thead th {\n",
       "        text-align: right;\n",
       "    }\n",
       "</style>\n",
       "<table border=\"1\" class=\"dataframe\">\n",
       "  <thead>\n",
       "    <tr style=\"text-align: right;\">\n",
       "      <th></th>\n",
       "      <th>Close</th>\n",
       "    </tr>\n",
       "  </thead>\n",
       "  <tbody>\n",
       "    <tr>\n",
       "      <th>0</th>\n",
       "      <td>1898.010010</td>\n",
       "    </tr>\n",
       "    <tr>\n",
       "      <th>1</th>\n",
       "      <td>1874.969971</td>\n",
       "    </tr>\n",
       "    <tr>\n",
       "      <th>2</th>\n",
       "      <td>1902.880005</td>\n",
       "    </tr>\n",
       "    <tr>\n",
       "      <th>3</th>\n",
       "      <td>1906.859985</td>\n",
       "    </tr>\n",
       "    <tr>\n",
       "      <th>4</th>\n",
       "      <td>1891.969971</td>\n",
       "    </tr>\n",
       "    <tr>\n",
       "      <th>...</th>\n",
       "      <td>...</td>\n",
       "    </tr>\n",
       "    <tr>\n",
       "      <th>68</th>\n",
       "      <td>2042.760010</td>\n",
       "    </tr>\n",
       "    <tr>\n",
       "      <th>69</th>\n",
       "      <td>2168.870117</td>\n",
       "    </tr>\n",
       "    <tr>\n",
       "      <th>70</th>\n",
       "      <td>2283.320068</td>\n",
       "    </tr>\n",
       "    <tr>\n",
       "      <th>71</th>\n",
       "      <td>2307.679932</td>\n",
       "    </tr>\n",
       "    <tr>\n",
       "      <th>72</th>\n",
       "      <td>2408.189941</td>\n",
       "    </tr>\n",
       "  </tbody>\n",
       "</table>\n",
       "<p>73 rows × 1 columns</p>\n",
       "</div>"
      ],
      "text/plain": [
       "          Close\n",
       "0   1898.010010\n",
       "1   1874.969971\n",
       "2   1902.880005\n",
       "3   1906.859985\n",
       "4   1891.969971\n",
       "..          ...\n",
       "68  2042.760010\n",
       "69  2168.870117\n",
       "70  2283.320068\n",
       "71  2307.679932\n",
       "72  2408.189941\n",
       "\n",
       "[73 rows x 1 columns]"
      ]
     },
     "execution_count": 170,
     "metadata": {},
     "output_type": "execute_result"
    }
   ],
   "source": [
    "df_JAN_APRIL_2020\n"
   ]
  },
  {
   "cell_type": "code",
   "execution_count": 171,
   "metadata": {},
   "outputs": [
    {
     "data": {
      "text/plain": [
       "<matplotlib.axes._subplots.AxesSubplot at 0x7f4380b7eb38>"
      ]
     },
     "execution_count": 171,
     "metadata": {},
     "output_type": "execute_result"
    },
    {
     "data": {
      "image/png": "[encoded data removed]",
      "text/plain": [
       "<Figure size 432x288 with 1 Axes>"
      ]
     },
     "metadata": {
      "needs_background": "light"
     },
     "output_type": "display_data"
    }
   ],
   "source": [
    "df_JAN_APRIL_2020.plot()"
   ]
  },
  {
   "cell_type": "code",
   "execution_count": 172,
   "metadata": {},
   "outputs": [
    {
     "data": {
      "text/plain": [
       "array([1882.22382311, 1892.45627256, 1902.84750229, 1913.06898337,\n",
       "       1922.88254534, 1932.16001492, 1940.84466994, 1948.92011006,\n",
       "       1956.39281185, 1963.2792801 , 1969.60385416, 1975.39285813,\n",
       "       1980.67982389, 1985.53379999, 1989.98393095, 1994.05789888,\n",
       "       1997.78014758, 2001.17459855, 2004.26444207, 2007.07265951,\n",
       "       2009.62108314, 2011.93018727, 2014.02034174, 2015.90961825,\n",
       "       2017.61598405, 2019.15531716, 2020.54297331, 2021.7925324 ,\n",
       "       2022.91736539, 2023.92875404, 2024.83787566, 2025.65475846,\n",
       "       2026.38786376, 2027.04607073, 2027.63679608, 2028.16620299,\n",
       "       2028.64097695, 2029.06665437, 2029.44804044, 2029.7898359 ,\n",
       "       2030.09621918, 2030.37042856, 2030.61632909, 2030.83642782,\n",
       "       2031.03364965, 2031.2106061 , 2031.36886409, 2031.51061728,\n",
       "       2031.63795489, 2031.75181707, 2031.85397965, 2031.94527832,\n",
       "       2032.0274889 , 2032.10113371, 2032.16694396, 2032.22617319,\n",
       "       2032.27923923, 2032.32697778, 2032.36949329, 2032.40772591,\n",
       "       2032.44230241, 2032.4729094 , 2032.50059149, 2032.52566206,\n",
       "       2032.54780773, 2032.56775973, 2032.58583143, 2032.60191838,\n",
       "       2032.6162295 , 2032.62928709, 2032.64088223, 2032.65153722,\n",
       "       2032.66072976])"
      ]
     },
     "execution_count": 172,
     "metadata": {},
     "output_type": "execute_result"
    }
   ],
   "source": [
    "forecast_df['Forecast'].values"
   ]
  },
  {
   "cell_type": "code",
   "execution_count": 173,
   "metadata": {},
   "outputs": [
    {
     "data": {
      "text/html": [
       "<div>\n",
       "<style scoped>\n",
       "    .dataframe tbody tr th:only-of-type {\n",
       "        vertical-align: middle;\n",
       "    }\n",
       "\n",
       "    .dataframe tbody tr th {\n",
       "        vertical-align: top;\n",
       "    }\n",
       "\n",
       "    .dataframe thead th {\n",
       "        text-align: right;\n",
       "    }\n",
       "</style>\n",
       "<table border=\"1\" class=\"dataframe\">\n",
       "  <thead>\n",
       "    <tr style=\"text-align: right;\">\n",
       "      <th></th>\n",
       "      <th>Close</th>\n",
       "      <th>Forecast</th>\n",
       "    </tr>\n",
       "  </thead>\n",
       "  <tbody>\n",
       "    <tr>\n",
       "      <th>0</th>\n",
       "      <td>1898.010010</td>\n",
       "      <td>1882.223823</td>\n",
       "    </tr>\n",
       "    <tr>\n",
       "      <th>1</th>\n",
       "      <td>1874.969971</td>\n",
       "      <td>1892.456273</td>\n",
       "    </tr>\n",
       "    <tr>\n",
       "      <th>2</th>\n",
       "      <td>1902.880005</td>\n",
       "      <td>1902.847502</td>\n",
       "    </tr>\n",
       "    <tr>\n",
       "      <th>3</th>\n",
       "      <td>1906.859985</td>\n",
       "      <td>1913.068983</td>\n",
       "    </tr>\n",
       "    <tr>\n",
       "      <th>4</th>\n",
       "      <td>1891.969971</td>\n",
       "      <td>1922.882545</td>\n",
       "    </tr>\n",
       "    <tr>\n",
       "      <th>...</th>\n",
       "      <td>...</td>\n",
       "      <td>...</td>\n",
       "    </tr>\n",
       "    <tr>\n",
       "      <th>68</th>\n",
       "      <td>2042.760010</td>\n",
       "      <td>2032.616229</td>\n",
       "    </tr>\n",
       "    <tr>\n",
       "      <th>69</th>\n",
       "      <td>2168.870117</td>\n",
       "      <td>2032.629287</td>\n",
       "    </tr>\n",
       "    <tr>\n",
       "      <th>70</th>\n",
       "      <td>2283.320068</td>\n",
       "      <td>2032.640882</td>\n",
       "    </tr>\n",
       "    <tr>\n",
       "      <th>71</th>\n",
       "      <td>2307.679932</td>\n",
       "      <td>2032.651537</td>\n",
       "    </tr>\n",
       "    <tr>\n",
       "      <th>72</th>\n",
       "      <td>2408.189941</td>\n",
       "      <td>2032.660730</td>\n",
       "    </tr>\n",
       "  </tbody>\n",
       "</table>\n",
       "<p>73 rows × 2 columns</p>\n",
       "</div>"
      ],
      "text/plain": [
       "          Close     Forecast\n",
       "0   1898.010010  1882.223823\n",
       "1   1874.969971  1892.456273\n",
       "2   1902.880005  1902.847502\n",
       "3   1906.859985  1913.068983\n",
       "4   1891.969971  1922.882545\n",
       "..          ...          ...\n",
       "68  2042.760010  2032.616229\n",
       "69  2168.870117  2032.629287\n",
       "70  2283.320068  2032.640882\n",
       "71  2307.679932  2032.651537\n",
       "72  2408.189941  2032.660730\n",
       "\n",
       "[73 rows x 2 columns]"
      ]
     },
     "execution_count": 173,
     "metadata": {},
     "output_type": "execute_result"
    }
   ],
   "source": [
    "df_JAN_APRIL_2020['Forecast']= forecast_df['Forecast'].values\n",
    "df_JAN_APRIL_2020"
   ]
  },
  {
   "cell_type": "code",
   "execution_count": 176,
   "metadata": {},
   "outputs": [
    {
     "data": {
      "text/plain": [
       "<matplotlib.axes._subplots.AxesSubplot at 0x7f4380b0f278>"
      ]
     },
     "execution_count": 176,
     "metadata": {},
     "output_type": "execute_result"
    },
    {
     "data": {
      "image/png": "[encoded data removed]",
      "text/plain": [
       "<Figure size 432x288 with 1 Axes>"
      ]
     },
     "metadata": {
      "needs_background": "light"
     },
     "output_type": "display_data"
    }
   ],
   "source": [
    "df_JAN_APRIL_2020.plot()"
   ]
  },
  {
   "cell_type": "code",
   "execution_count": null,
   "metadata": {},
   "outputs": [],
   "source": []
  }
 ],
 "metadata": {
  "kernelspec": {
   "display_name": "Python 3",
   "language": "python",
   "name": "python3"
  },
  "language_info": {
   "codemirror_mode": {
    "name": "ipython",
    "version": 3
   },
   "file_extension": ".py",
   "mimetype": "text/x-python",
   "name": "python",
   "nbconvert_exporter": "python",
   "pygments_lexer": "ipython3",
   "version": "3.7.0"
  }
 },
 "nbformat": 4,
 "nbformat_minor": 2
}
